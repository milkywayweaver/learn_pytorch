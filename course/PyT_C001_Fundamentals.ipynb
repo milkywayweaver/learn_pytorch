{
  "nbformat": 4,
  "nbformat_minor": 0,
  "metadata": {
    "colab": {
      "provenance": [],
      "collapsed_sections": [
        "9Bu7cTyWG8v4",
        "gekm4vpoG41M",
        "Pz83Or0vGQbg",
        "mRkbs2D4GyXJ",
        "UylFzBxqKvZw",
        "LNwAub8JUE5Q"
      ],
      "gpuType": "T4",
      "authorship_tag": "ABX9TyPoIcaPZYOw91FiQMg9LSoG",
      "include_colab_link": true
    },
    "kernelspec": {
      "name": "python3",
      "display_name": "Python 3"
    },
    "language_info": {
      "name": "python"
    },
    "accelerator": "GPU"
  },
  "cells": [
    {
      "cell_type": "markdown",
      "metadata": {
        "id": "view-in-github",
        "colab_type": "text"
      },
      "source": [
        "<a href=\"https://colab.research.google.com/github/milkywayweaver/learn_pytorch/blob/main/course/PyT_C001_Fundamentals.ipynb\" target=\"_parent\"><img src=\"https://colab.research.google.com/assets/colab-badge.svg\" alt=\"Open In Colab\"/></a>"
      ]
    },
    {
      "cell_type": "markdown",
      "source": [
        "**PyTorch for Deep Learning & Machine Learning: Fundamentals** <br>\n",
        "<br>\n",
        "📖 Course: <br>\n",
        " PyTorch for Deep Learning & Machine Learning - freeCodeCamp.org, taught by Daniel Bourke. <br>\n",
        "https://youtu.be/V_xro1bcAuA?si=luBE0ln8qKDfQWyM"
      ],
      "metadata": {
        "id": "F_MCMKVH_VhF"
      }
    },
    {
      "cell_type": "code",
      "source": [
        "import torch\n",
        "print(torch.__version__)\n",
        "\n",
        "import pandas as pd\n",
        "import numpy as np\n",
        "import matplotlib.pyplot as plt\n",
        "\n",
        "# RANDOM_SEED = 16\n",
        "# torch.manual_seed(RANDOM_SEED)"
      ],
      "metadata": {
        "colab": {
          "base_uri": "https://localhost:8080/"
        },
        "id": "7HLef4kXjzg0",
        "outputId": "dd51eaef-ff1a-4634-80ce-192c0f038fca"
      },
      "execution_count": 1,
      "outputs": [
        {
          "output_type": "stream",
          "name": "stdout",
          "text": [
            "2.6.0+cu124\n"
          ]
        }
      ]
    },
    {
      "cell_type": "markdown",
      "source": [
        "🔑 To change the hardware accelerator to GPU, go to runtime > change runtime type."
      ],
      "metadata": {
        "id": "Rdm8auCFjeIG"
      }
    },
    {
      "cell_type": "code",
      "source": [
        "!nvidia-smi"
      ],
      "metadata": {
        "colab": {
          "base_uri": "https://localhost:8080/"
        },
        "id": "hxVJNKeDoyaO",
        "outputId": "1cc4a74c-70b5-4bca-d314-d2f50edaabfb"
      },
      "execution_count": 2,
      "outputs": [
        {
          "output_type": "stream",
          "name": "stdout",
          "text": [
            "Tue May 27 04:28:31 2025       \n",
            "+-----------------------------------------------------------------------------------------+\n",
            "| NVIDIA-SMI 550.54.15              Driver Version: 550.54.15      CUDA Version: 12.4     |\n",
            "|-----------------------------------------+------------------------+----------------------+\n",
            "| GPU  Name                 Persistence-M | Bus-Id          Disp.A | Volatile Uncorr. ECC |\n",
            "| Fan  Temp   Perf          Pwr:Usage/Cap |           Memory-Usage | GPU-Util  Compute M. |\n",
            "|                                         |                        |               MIG M. |\n",
            "|=========================================+========================+======================|\n",
            "|   0  Tesla T4                       Off |   00000000:00:04.0 Off |                    0 |\n",
            "| N/A   48C    P8              9W /   70W |       0MiB /  15360MiB |      0%      Default |\n",
            "|                                         |                        |                  N/A |\n",
            "+-----------------------------------------+------------------------+----------------------+\n",
            "                                                                                         \n",
            "+-----------------------------------------------------------------------------------------+\n",
            "| Processes:                                                                              |\n",
            "|  GPU   GI   CI        PID   Type   Process name                              GPU Memory |\n",
            "|        ID   ID                                                               Usage      |\n",
            "|=========================================================================================|\n",
            "|  No running processes found                                                             |\n",
            "+-----------------------------------------------------------------------------------------+\n"
          ]
        }
      ]
    },
    {
      "cell_type": "markdown",
      "source": [
        "# Making Tensors"
      ],
      "metadata": {
        "id": "sJ2QPU_XHCbI"
      }
    },
    {
      "cell_type": "markdown",
      "source": [
        "💡 **INTRODUCTION TO TENSOR** <br>\n",
        "1. Scalar : Tensor of rank 0\n",
        "2. Vector : Tensor of rank 1\n",
        "2. MATRIX : Tensor of rank 2\n",
        "3. TENSOR : Tensor of rank >2"
      ],
      "metadata": {
        "id": "PWrIrVAskn55"
      }
    },
    {
      "cell_type": "code",
      "source": [
        "# Scalar\n",
        "scalar = torch.tensor(4)\n",
        "display(scalar)\n",
        "\n",
        "# Get the item as Python int\n",
        "display(scalar.item())\n",
        "\n",
        "# Get the shape and rank\n",
        "display(scalar.shape)\n",
        "display(scalar.ndim)"
      ],
      "metadata": {
        "colab": {
          "base_uri": "https://localhost:8080/",
          "height": 86
        },
        "id": "vpb47VCxja-a",
        "outputId": "e416f068-ce82-444d-f5cf-3ea06695358c"
      },
      "execution_count": 3,
      "outputs": [
        {
          "output_type": "display_data",
          "data": {
            "text/plain": [
              "tensor(4)"
            ]
          },
          "metadata": {}
        },
        {
          "output_type": "display_data",
          "data": {
            "text/plain": [
              "4"
            ]
          },
          "metadata": {}
        },
        {
          "output_type": "display_data",
          "data": {
            "text/plain": [
              "torch.Size([])"
            ]
          },
          "metadata": {}
        },
        {
          "output_type": "display_data",
          "data": {
            "text/plain": [
              "0"
            ]
          },
          "metadata": {}
        }
      ]
    },
    {
      "cell_type": "code",
      "source": [
        "# Vector\n",
        "vector = torch.tensor([4,1,6])\n",
        "display(vector)\n",
        "\n",
        "# Get the shape and rank\n",
        "display(vector.shape,vector.ndim)"
      ],
      "metadata": {
        "colab": {
          "base_uri": "https://localhost:8080/",
          "height": 69
        },
        "id": "tNNMK5vxlEq-",
        "outputId": "809f4893-e9b8-48e1-bc2b-37e5f392ab77"
      },
      "execution_count": 4,
      "outputs": [
        {
          "output_type": "display_data",
          "data": {
            "text/plain": [
              "tensor([4, 1, 6])"
            ]
          },
          "metadata": {}
        },
        {
          "output_type": "display_data",
          "data": {
            "text/plain": [
              "torch.Size([3])"
            ]
          },
          "metadata": {}
        },
        {
          "output_type": "display_data",
          "data": {
            "text/plain": [
              "1"
            ]
          },
          "metadata": {}
        }
      ]
    },
    {
      "cell_type": "code",
      "source": [
        "# MATRIX\n",
        "MATRIX = torch.tensor([[1,2,3],\n",
        "                       [4,5,6]])\n",
        "display(MATRIX)\n",
        "\n",
        "# Get the shape and rank\n",
        "display(MATRIX.shape,MATRIX.ndim)"
      ],
      "metadata": {
        "colab": {
          "base_uri": "https://localhost:8080/",
          "height": 86
        },
        "id": "BTfZfuM4mpL-",
        "outputId": "1d484c8c-c077-4d32-a9bb-25306d9b7ccf"
      },
      "execution_count": 5,
      "outputs": [
        {
          "output_type": "display_data",
          "data": {
            "text/plain": [
              "tensor([[1, 2, 3],\n",
              "        [4, 5, 6]])"
            ]
          },
          "metadata": {}
        },
        {
          "output_type": "display_data",
          "data": {
            "text/plain": [
              "torch.Size([2, 3])"
            ]
          },
          "metadata": {}
        },
        {
          "output_type": "display_data",
          "data": {
            "text/plain": [
              "2"
            ]
          },
          "metadata": {}
        }
      ]
    },
    {
      "cell_type": "code",
      "source": [
        "# TENSOR\n",
        "TENSOR = torch.tensor([[[1,2,3],\n",
        "                        [4,5,6],\n",
        "                        [7,8,9]]])\n",
        "display(TENSOR)\n",
        "\n",
        "# Get the shape and rank\n",
        "display(TENSOR.shape,TENSOR.ndim)"
      ],
      "metadata": {
        "colab": {
          "base_uri": "https://localhost:8080/",
          "height": 104
        },
        "id": "AbiuJBYcm-gz",
        "outputId": "0cd197f0-b796-4788-ed85-4d51a11fa50f"
      },
      "execution_count": 6,
      "outputs": [
        {
          "output_type": "display_data",
          "data": {
            "text/plain": [
              "tensor([[[1, 2, 3],\n",
              "         [4, 5, 6],\n",
              "         [7, 8, 9]]])"
            ]
          },
          "metadata": {}
        },
        {
          "output_type": "display_data",
          "data": {
            "text/plain": [
              "torch.Size([1, 3, 3])"
            ]
          },
          "metadata": {}
        },
        {
          "output_type": "display_data",
          "data": {
            "text/plain": [
              "3"
            ]
          },
          "metadata": {}
        }
      ]
    },
    {
      "cell_type": "markdown",
      "source": [
        "💡 **RANDOM TENSOR**"
      ],
      "metadata": {
        "id": "T8wwtRUGofnD"
      }
    },
    {
      "cell_type": "code",
      "source": [
        "RANDOM = torch.rand(3,4)\n",
        "RANDOM"
      ],
      "metadata": {
        "colab": {
          "base_uri": "https://localhost:8080/"
        },
        "id": "OYOPbJmxn_59",
        "outputId": "48eb2e06-abdf-4480-a55f-55c76f677bdb"
      },
      "execution_count": 7,
      "outputs": [
        {
          "output_type": "execute_result",
          "data": {
            "text/plain": [
              "tensor([[0.4557, 0.0795, 0.0556, 0.7876],\n",
              "        [0.0600, 0.4706, 0.9320, 0.7877],\n",
              "        [0.8616, 0.0756, 0.7317, 0.0840]])"
            ]
          },
          "metadata": {},
          "execution_count": 7
        }
      ]
    },
    {
      "cell_type": "code",
      "source": [
        "np_random = np.random.randint(0,10,20)\n",
        "NUMPY_RANDOM = torch.tensor(np_random).reshape(4,5)\n",
        "NUMPY_RANDOM"
      ],
      "metadata": {
        "colab": {
          "base_uri": "https://localhost:8080/"
        },
        "id": "U_7g0GRhp8Si",
        "outputId": "346a1974-5a15-4147-d061-c4751d790023"
      },
      "execution_count": 8,
      "outputs": [
        {
          "output_type": "execute_result",
          "data": {
            "text/plain": [
              "tensor([[3, 9, 8, 3, 5],\n",
              "        [8, 2, 4, 1, 7],\n",
              "        [7, 6, 4, 5, 1],\n",
              "        [4, 5, 9, 0, 2]])"
            ]
          },
          "metadata": {},
          "execution_count": 8
        }
      ]
    },
    {
      "cell_type": "markdown",
      "source": [
        "💡**ZEROS, ONES, ARANGE**"
      ],
      "metadata": {
        "id": "__cZGvIKsx1G"
      }
    },
    {
      "cell_type": "code",
      "source": [
        "# Zeros\n",
        "zeros = torch.zeros(3,4)\n",
        "display(zeros)\n",
        "\n",
        "# Zeros-Like - Make zeros tensor in the shape of another tensor\n",
        "zeros_2 = torch.zeros_like(TENSOR)\n",
        "display(zeros_2)"
      ],
      "metadata": {
        "id": "XcN7oDuhqtbj",
        "colab": {
          "base_uri": "https://localhost:8080/",
          "height": 121
        },
        "outputId": "f0cfcbb4-e017-4f45-e3f3-174f1e0aed4a"
      },
      "execution_count": 9,
      "outputs": [
        {
          "output_type": "display_data",
          "data": {
            "text/plain": [
              "tensor([[0., 0., 0., 0.],\n",
              "        [0., 0., 0., 0.],\n",
              "        [0., 0., 0., 0.]])"
            ]
          },
          "metadata": {}
        },
        {
          "output_type": "display_data",
          "data": {
            "text/plain": [
              "tensor([[[0, 0, 0],\n",
              "         [0, 0, 0],\n",
              "         [0, 0, 0]]])"
            ]
          },
          "metadata": {}
        }
      ]
    },
    {
      "cell_type": "code",
      "source": [
        "# Ones\n",
        "ones = torch.ones(3,4)\n",
        "display(ones)\n",
        "\n",
        "# Ones-Like - Make ones tensor in the shape of another tensor\n",
        "ones_2 = torch.ones_like(TENSOR)\n",
        "display(ones_2)"
      ],
      "metadata": {
        "colab": {
          "base_uri": "https://localhost:8080/",
          "height": 121
        },
        "id": "tDrE1nB9tMqu",
        "outputId": "6c341c11-a061-4203-c153-79ded78f087f"
      },
      "execution_count": 10,
      "outputs": [
        {
          "output_type": "display_data",
          "data": {
            "text/plain": [
              "tensor([[1., 1., 1., 1.],\n",
              "        [1., 1., 1., 1.],\n",
              "        [1., 1., 1., 1.]])"
            ]
          },
          "metadata": {}
        },
        {
          "output_type": "display_data",
          "data": {
            "text/plain": [
              "tensor([[[1, 1, 1],\n",
              "         [1, 1, 1],\n",
              "         [1, 1, 1]]])"
            ]
          },
          "metadata": {}
        }
      ]
    },
    {
      "cell_type": "code",
      "source": [
        "# Range\n",
        "ranges = torch.arange(0,111,11)\n",
        "ranges"
      ],
      "metadata": {
        "colab": {
          "base_uri": "https://localhost:8080/"
        },
        "id": "rwYU41AStNR4",
        "outputId": "9a7654c7-8f09-4050-fd64-a3696fea1dc6"
      },
      "execution_count": 11,
      "outputs": [
        {
          "output_type": "execute_result",
          "data": {
            "text/plain": [
              "tensor([  0,  11,  22,  33,  44,  55,  66,  77,  88,  99, 110])"
            ]
          },
          "metadata": {},
          "execution_count": 11
        }
      ]
    },
    {
      "cell_type": "markdown",
      "source": [
        "# Tensor Informations"
      ],
      "metadata": {
        "id": "9Bu7cTyWG8v4"
      }
    },
    {
      "cell_type": "markdown",
      "source": [
        "💡 **DATATYPE**"
      ],
      "metadata": {
        "id": "tL5FCN7SueTK"
      }
    },
    {
      "cell_type": "code",
      "source": [
        "float_32_tensor = torch.tensor([0.0,1.0,6.0],\n",
        "                               dtype=torch.float32, # 'torch.float16, torch.float64, ...\n",
        "                               device = None, # 'cpu', 'cuda', ...\n",
        "                               requires_grad=False) # bool - tracks gradient\n",
        "float_32_tensor.dtype"
      ],
      "metadata": {
        "colab": {
          "base_uri": "https://localhost:8080/"
        },
        "id": "_C-usQBjtNvX",
        "outputId": "3ca29aff-db55-47bf-f1a1-b5f45c8cc40b"
      },
      "execution_count": 12,
      "outputs": [
        {
          "output_type": "execute_result",
          "data": {
            "text/plain": [
              "torch.float32"
            ]
          },
          "metadata": {},
          "execution_count": 12
        }
      ]
    },
    {
      "cell_type": "code",
      "source": [
        "# Change datatype\n",
        "int_16_tensor = float_32_tensor.type(torch.int16)\n",
        "int_16_tensor.dtype"
      ],
      "metadata": {
        "colab": {
          "base_uri": "https://localhost:8080/"
        },
        "id": "J3tvmUhuu4Uv",
        "outputId": "fd9304ad-11ee-4283-9c69-ef0b18d24770"
      },
      "execution_count": 13,
      "outputs": [
        {
          "output_type": "execute_result",
          "data": {
            "text/plain": [
              "torch.int16"
            ]
          },
          "metadata": {},
          "execution_count": 13
        }
      ]
    },
    {
      "cell_type": "code",
      "source": [
        "# Operations with other datatypes --> Changes datatype to the more complex datatype\n",
        "(int_16_tensor * float_32_tensor).dtype"
      ],
      "metadata": {
        "colab": {
          "base_uri": "https://localhost:8080/"
        },
        "id": "ItY9HCjGwdBE",
        "outputId": "d715bcdb-2bc4-441a-e35f-b6250e4712b3"
      },
      "execution_count": 14,
      "outputs": [
        {
          "output_type": "execute_result",
          "data": {
            "text/plain": [
              "torch.float32"
            ]
          },
          "metadata": {},
          "execution_count": 14
        }
      ]
    },
    {
      "cell_type": "markdown",
      "source": [
        "💡 **GETTING INFORMATION FROM TENSORS** <br>\n",
        "3 major sources of errors in PyTorch/Deep Learning:\n",
        "1. Tensor datatype\n",
        "2. Tensor shape\n",
        "3. Tensor device"
      ],
      "metadata": {
        "id": "adBLXJ4Ox3T6"
      }
    },
    {
      "cell_type": "code",
      "source": [
        "display(TENSOR)\n",
        "\n",
        "# Shape\n",
        "display(TENSOR.dtype)\n",
        "\n",
        "# Shape\n",
        "display(TENSOR.shape)\n",
        "# TENSOR.size() also works the same\n",
        "\n",
        "# Device\n",
        "display(TENSOR.device)"
      ],
      "metadata": {
        "colab": {
          "base_uri": "https://localhost:8080/",
          "height": 121
        },
        "id": "uZEqLLybwmyR",
        "outputId": "e32b5b5f-d7de-4638-8e22-5ed87c0be3b9"
      },
      "execution_count": 15,
      "outputs": [
        {
          "output_type": "display_data",
          "data": {
            "text/plain": [
              "tensor([[[1, 2, 3],\n",
              "         [4, 5, 6],\n",
              "         [7, 8, 9]]])"
            ]
          },
          "metadata": {}
        },
        {
          "output_type": "display_data",
          "data": {
            "text/plain": [
              "torch.int64"
            ]
          },
          "metadata": {}
        },
        {
          "output_type": "display_data",
          "data": {
            "text/plain": [
              "torch.Size([1, 3, 3])"
            ]
          },
          "metadata": {}
        },
        {
          "output_type": "display_data",
          "data": {
            "text/plain": [
              "device(type='cpu')"
            ]
          },
          "metadata": {}
        }
      ]
    },
    {
      "cell_type": "markdown",
      "source": [
        "# Tensor Operations"
      ],
      "metadata": {
        "id": "gekm4vpoG41M"
      }
    },
    {
      "cell_type": "markdown",
      "source": [
        "💡 **TENSOR OPERATIONS**"
      ],
      "metadata": {
        "id": "kQCEQ8LjzC0v"
      }
    },
    {
      "cell_type": "code",
      "source": [
        "np.random.seed(42)\n",
        "A = torch.tensor(np.random.randint(0,10,12)).reshape(3,4)\n",
        "B = torch.tensor(np.random.randint(0,10,12)).reshape(3,4)\n",
        "\n",
        "A,B"
      ],
      "metadata": {
        "colab": {
          "base_uri": "https://localhost:8080/"
        },
        "id": "kpv9kHjrx_rk",
        "outputId": "0dd70992-ab23-42c1-92a2-41c3026b78e3"
      },
      "execution_count": 16,
      "outputs": [
        {
          "output_type": "execute_result",
          "data": {
            "text/plain": [
              "(tensor([[6, 3, 7, 4],\n",
              "         [6, 9, 2, 6],\n",
              "         [7, 4, 3, 7]]),\n",
              " tensor([[7, 2, 5, 4],\n",
              "         [1, 7, 5, 1],\n",
              "         [4, 0, 9, 5]]))"
            ]
          },
          "metadata": {},
          "execution_count": 16
        }
      ]
    },
    {
      "cell_type": "code",
      "source": [
        "# Addition/Subtraction\n",
        "A + B - 2"
      ],
      "metadata": {
        "colab": {
          "base_uri": "https://localhost:8080/"
        },
        "id": "8VRhomI9zQ76",
        "outputId": "90fa00c7-bb4a-444d-b6fe-745190f20df8"
      },
      "execution_count": 17,
      "outputs": [
        {
          "output_type": "execute_result",
          "data": {
            "text/plain": [
              "tensor([[11,  3, 10,  6],\n",
              "        [ 5, 14,  5,  5],\n",
              "        [ 9,  2, 10, 10]])"
            ]
          },
          "metadata": {},
          "execution_count": 17
        }
      ]
    },
    {
      "cell_type": "code",
      "source": [
        "# Element-wise multiplication/Division\n",
        "A * B / 2"
      ],
      "metadata": {
        "colab": {
          "base_uri": "https://localhost:8080/"
        },
        "id": "XTX4GfZkzc8S",
        "outputId": "dc47f94e-46ca-4194-925f-8cc96d90e14f"
      },
      "execution_count": 18,
      "outputs": [
        {
          "output_type": "execute_result",
          "data": {
            "text/plain": [
              "tensor([[21.0000,  3.0000, 17.5000,  8.0000],\n",
              "        [ 3.0000, 31.5000,  5.0000,  3.0000],\n",
              "        [14.0000,  0.0000, 13.5000, 17.5000]])"
            ]
          },
          "metadata": {},
          "execution_count": 18
        }
      ]
    },
    {
      "cell_type": "code",
      "source": [
        "# Matrix multiplication\n",
        "np.random.seed(42)\n",
        "A = torch.tensor(np.random.randint(0,10,12)).reshape(3,4)\n",
        "B = torch.tensor(np.random.randint(0,10,12)).reshape(4,3)\n",
        "\n",
        "A,B"
      ],
      "metadata": {
        "colab": {
          "base_uri": "https://localhost:8080/"
        },
        "id": "9SMb-Lo2zrmV",
        "outputId": "ca390cca-dc81-4b93-f6e5-77a82ee4247f"
      },
      "execution_count": 19,
      "outputs": [
        {
          "output_type": "execute_result",
          "data": {
            "text/plain": [
              "(tensor([[6, 3, 7, 4],\n",
              "         [6, 9, 2, 6],\n",
              "         [7, 4, 3, 7]]),\n",
              " tensor([[7, 2, 5],\n",
              "         [4, 1, 7],\n",
              "         [5, 1, 4],\n",
              "         [0, 9, 5]]))"
            ]
          },
          "metadata": {},
          "execution_count": 19
        }
      ]
    },
    {
      "cell_type": "code",
      "source": [
        "A@B"
      ],
      "metadata": {
        "colab": {
          "base_uri": "https://localhost:8080/"
        },
        "id": "R1ysDnQnz_ME",
        "outputId": "41bd3c0d-8a3c-4568-eae1-4ad95d1f4e5f"
      },
      "execution_count": 20,
      "outputs": [
        {
          "output_type": "execute_result",
          "data": {
            "text/plain": [
              "tensor([[ 89,  58,  99],\n",
              "        [ 88,  77, 131],\n",
              "        [ 80,  84, 110]])"
            ]
          },
          "metadata": {},
          "execution_count": 20
        }
      ]
    },
    {
      "cell_type": "markdown",
      "source": [
        "# Reshaping Tensors"
      ],
      "metadata": {
        "id": "Pz83Or0vGQbg"
      }
    },
    {
      "cell_type": "markdown",
      "source": [
        "💡 **TRANSPOSE, RESHAPE, SQUEEZE, AND STACK** <br>\n",
        "1. Transpose switches the axis around\n",
        "2. Reshape simply reshapes the tensor while keeping the element order the same\n",
        "3. Squueze removes single dimensions from the tensor\n",
        "4. Stack combines multiple tensors"
      ],
      "metadata": {
        "id": "hIxK34vo5Z9o"
      }
    },
    {
      "cell_type": "code",
      "source": [
        "np.random.seed(42)\n",
        "A = torch.tensor(np.random.randint(0,10,12)).reshape(3,4)\n",
        "B = torch.tensor(np.random.randint(0,10,12)).reshape(3,4)\n",
        "\n",
        "A,B"
      ],
      "metadata": {
        "colab": {
          "base_uri": "https://localhost:8080/"
        },
        "id": "tqUkIT5sLaEY",
        "outputId": "93f4290e-f985-40e2-da97-fbd5c0e749ed"
      },
      "execution_count": 21,
      "outputs": [
        {
          "output_type": "execute_result",
          "data": {
            "text/plain": [
              "(tensor([[6, 3, 7, 4],\n",
              "         [6, 9, 2, 6],\n",
              "         [7, 4, 3, 7]]),\n",
              " tensor([[7, 2, 5, 4],\n",
              "         [1, 7, 5, 1],\n",
              "         [4, 0, 9, 5]]))"
            ]
          },
          "metadata": {},
          "execution_count": 21
        }
      ]
    },
    {
      "cell_type": "code",
      "source": [
        "# Transpose\n",
        "display(A.T)\n",
        "display(A.T.shape)"
      ],
      "metadata": {
        "colab": {
          "base_uri": "https://localhost:8080/",
          "height": 104
        },
        "id": "hCbkrFAJ5jsJ",
        "outputId": "64f7a364-15ad-4791-a07c-cf1ec9244e4d"
      },
      "execution_count": 22,
      "outputs": [
        {
          "output_type": "display_data",
          "data": {
            "text/plain": [
              "tensor([[6, 6, 7],\n",
              "        [3, 9, 4],\n",
              "        [7, 2, 3],\n",
              "        [4, 6, 7]])"
            ]
          },
          "metadata": {}
        },
        {
          "output_type": "display_data",
          "data": {
            "text/plain": [
              "torch.Size([4, 3])"
            ]
          },
          "metadata": {}
        }
      ]
    },
    {
      "cell_type": "code",
      "source": [
        "# Reshape\n",
        "display(A.reshape(4,3))\n",
        "display(A.reshape(4,3).shape)"
      ],
      "metadata": {
        "colab": {
          "base_uri": "https://localhost:8080/",
          "height": 104
        },
        "id": "9SyMkntO5m4s",
        "outputId": "a62f2a53-7d20-40d9-8c44-99f9a104eaf1"
      },
      "execution_count": 23,
      "outputs": [
        {
          "output_type": "display_data",
          "data": {
            "text/plain": [
              "tensor([[6, 3, 7],\n",
              "        [4, 6, 9],\n",
              "        [2, 6, 7],\n",
              "        [4, 3, 7]])"
            ]
          },
          "metadata": {}
        },
        {
          "output_type": "display_data",
          "data": {
            "text/plain": [
              "torch.Size([4, 3])"
            ]
          },
          "metadata": {}
        }
      ]
    },
    {
      "cell_type": "code",
      "source": [
        "# Squeeze\n",
        "C = torch.tensor([[[1,2,3,4,5],[6,7,8,9,10]]])\n",
        "display(C,C.shape)\n",
        "print('\\n')\n",
        "C_squueze = C.squeeze()\n",
        "display(C_squueze,C_squueze.shape)"
      ],
      "metadata": {
        "colab": {
          "base_uri": "https://localhost:8080/",
          "height": 156
        },
        "id": "fWju9_2P-hpV",
        "outputId": "347ec55b-d790-4747-f61f-8633528a02f4"
      },
      "execution_count": 24,
      "outputs": [
        {
          "output_type": "display_data",
          "data": {
            "text/plain": [
              "tensor([[[ 1,  2,  3,  4,  5],\n",
              "         [ 6,  7,  8,  9, 10]]])"
            ]
          },
          "metadata": {}
        },
        {
          "output_type": "display_data",
          "data": {
            "text/plain": [
              "torch.Size([1, 2, 5])"
            ]
          },
          "metadata": {}
        },
        {
          "output_type": "stream",
          "name": "stdout",
          "text": [
            "\n",
            "\n"
          ]
        },
        {
          "output_type": "display_data",
          "data": {
            "text/plain": [
              "tensor([[ 1,  2,  3,  4,  5],\n",
              "        [ 6,  7,  8,  9, 10]])"
            ]
          },
          "metadata": {}
        },
        {
          "output_type": "display_data",
          "data": {
            "text/plain": [
              "torch.Size([2, 5])"
            ]
          },
          "metadata": {}
        }
      ]
    },
    {
      "cell_type": "code",
      "source": [
        "# Unsquueze : adds single dimension along specified axis\n",
        "C_unsqueeze = C_squueze.unsqueeze(1)\n",
        "C_unsqueeze, C_unsqueeze.shape"
      ],
      "metadata": {
        "colab": {
          "base_uri": "https://localhost:8080/"
        },
        "id": "7KWc7YXgAT9m",
        "outputId": "a9f6d676-c434-4f60-ef93-5e7eb29199dc"
      },
      "execution_count": 25,
      "outputs": [
        {
          "output_type": "execute_result",
          "data": {
            "text/plain": [
              "(tensor([[[ 1,  2,  3,  4,  5]],\n",
              " \n",
              "         [[ 6,  7,  8,  9, 10]]]),\n",
              " torch.Size([2, 1, 5]))"
            ]
          },
          "metadata": {},
          "execution_count": 25
        }
      ]
    },
    {
      "cell_type": "code",
      "source": [
        "# Stacks tensor along specified axis\n",
        "AB = torch.stack([A,B],1)\n",
        "AB"
      ],
      "metadata": {
        "colab": {
          "base_uri": "https://localhost:8080/"
        },
        "id": "70osA54jBGQi",
        "outputId": "261607ab-555e-47c6-fc4f-d6a195102944"
      },
      "execution_count": 26,
      "outputs": [
        {
          "output_type": "execute_result",
          "data": {
            "text/plain": [
              "tensor([[[6, 3, 7, 4],\n",
              "         [7, 2, 5, 4]],\n",
              "\n",
              "        [[6, 9, 2, 6],\n",
              "         [1, 7, 5, 1]],\n",
              "\n",
              "        [[7, 4, 3, 7],\n",
              "         [4, 0, 9, 5]]])"
            ]
          },
          "metadata": {},
          "execution_count": 26
        }
      ]
    },
    {
      "cell_type": "code",
      "source": [
        "# Vertical stack\n",
        "torch.vstack([A,B])"
      ],
      "metadata": {
        "colab": {
          "base_uri": "https://localhost:8080/"
        },
        "id": "qgwMVmuHB6EL",
        "outputId": "8ddbb332-164d-4f3b-ecdc-7b2c8b4a5747"
      },
      "execution_count": 27,
      "outputs": [
        {
          "output_type": "execute_result",
          "data": {
            "text/plain": [
              "tensor([[6, 3, 7, 4],\n",
              "        [6, 9, 2, 6],\n",
              "        [7, 4, 3, 7],\n",
              "        [7, 2, 5, 4],\n",
              "        [1, 7, 5, 1],\n",
              "        [4, 0, 9, 5]])"
            ]
          },
          "metadata": {},
          "execution_count": 27
        }
      ]
    },
    {
      "cell_type": "code",
      "source": [
        "# Horizontal stack\n",
        "torch.hstack([A,B])"
      ],
      "metadata": {
        "colab": {
          "base_uri": "https://localhost:8080/"
        },
        "id": "n52Ey3PyB-GR",
        "outputId": "3d329ea4-ffb9-4244-9c62-b1b4a14f01cf"
      },
      "execution_count": 28,
      "outputs": [
        {
          "output_type": "execute_result",
          "data": {
            "text/plain": [
              "tensor([[6, 3, 7, 4, 7, 2, 5, 4],\n",
              "        [6, 9, 2, 6, 1, 7, 5, 1],\n",
              "        [7, 4, 3, 7, 4, 0, 9, 5]])"
            ]
          },
          "metadata": {},
          "execution_count": 28
        }
      ]
    },
    {
      "cell_type": "code",
      "source": [
        "# Permute : returns a view in a re-aranged axis\n",
        "# A view shares the same channel as the original one, meaning  changes in the view would affect the original tensor\n",
        "IMG = torch.rand(size=(224,224,3)) # H,W,RGB\n",
        "IMG_permuted = IMG.permute(2,0,1)\n",
        "IMG_permuted.shape # RGB,H,W"
      ],
      "metadata": {
        "colab": {
          "base_uri": "https://localhost:8080/"
        },
        "id": "9i76PktUExE4",
        "outputId": "5c748fa5-5c88-4110-89ca-27b903cb3ceb"
      },
      "execution_count": 29,
      "outputs": [
        {
          "output_type": "execute_result",
          "data": {
            "text/plain": [
              "torch.Size([3, 224, 224])"
            ]
          },
          "metadata": {},
          "execution_count": 29
        }
      ]
    },
    {
      "cell_type": "markdown",
      "source": [
        "# Tensor Aggregation"
      ],
      "metadata": {
        "id": "mRkbs2D4GyXJ"
      }
    },
    {
      "cell_type": "markdown",
      "source": [
        "💡 **TENSOR AGGREGATION**"
      ],
      "metadata": {
        "id": "ELpFQloM8Eze"
      }
    },
    {
      "cell_type": "code",
      "source": [
        "np.random.seed(42)\n",
        "A = torch.tensor(np.random.randint(0,10,12)).reshape(3,4)\n",
        "B = torch.tensor(np.random.randint(0,10,12)).reshape(3,4)\n",
        "\n",
        "A,B"
      ],
      "metadata": {
        "colab": {
          "base_uri": "https://localhost:8080/"
        },
        "id": "vOCqxhWBLbsC",
        "outputId": "3e952537-82ca-4ac0-e4b7-e9403b75e2ac"
      },
      "execution_count": 30,
      "outputs": [
        {
          "output_type": "execute_result",
          "data": {
            "text/plain": [
              "(tensor([[6, 3, 7, 4],\n",
              "         [6, 9, 2, 6],\n",
              "         [7, 4, 3, 7]]),\n",
              " tensor([[7, 2, 5, 4],\n",
              "         [1, 7, 5, 1],\n",
              "         [4, 0, 9, 5]]))"
            ]
          },
          "metadata": {},
          "execution_count": 30
        }
      ]
    },
    {
      "cell_type": "code",
      "source": [
        "# Find the min\n",
        "display(torch.min(A))\n",
        "display(A.min())"
      ],
      "metadata": {
        "colab": {
          "base_uri": "https://localhost:8080/",
          "height": 52
        },
        "id": "SsSdURLn5ord",
        "outputId": "a3520ac5-80f5-4fff-ec2e-0d5b527b5916"
      },
      "execution_count": 31,
      "outputs": [
        {
          "output_type": "display_data",
          "data": {
            "text/plain": [
              "tensor(2)"
            ]
          },
          "metadata": {}
        },
        {
          "output_type": "display_data",
          "data": {
            "text/plain": [
              "tensor(2)"
            ]
          },
          "metadata": {}
        }
      ]
    },
    {
      "cell_type": "code",
      "source": [
        "# Find the max\n",
        "display(torch.max(A))\n",
        "display(A.max())"
      ],
      "metadata": {
        "colab": {
          "base_uri": "https://localhost:8080/",
          "height": 52
        },
        "id": "9r3twjuO8Nnc",
        "outputId": "cc4b86b9-c573-4d04-d6a6-1e626ba20d52"
      },
      "execution_count": 32,
      "outputs": [
        {
          "output_type": "display_data",
          "data": {
            "text/plain": [
              "tensor(9)"
            ]
          },
          "metadata": {}
        },
        {
          "output_type": "display_data",
          "data": {
            "text/plain": [
              "tensor(9)"
            ]
          },
          "metadata": {}
        }
      ]
    },
    {
      "cell_type": "code",
      "source": [
        "# Find the mean\n",
        "# !!! Mean only works with float or complex datatype !!!\n",
        "display(torch.mean(A.type(torch.float32)))\n",
        "display(A.type(torch.float32).mean())"
      ],
      "metadata": {
        "colab": {
          "base_uri": "https://localhost:8080/",
          "height": 52
        },
        "id": "JGuPpKR98deZ",
        "outputId": "fd67dfaa-ac6a-4b99-9942-c7eaca0a8f95"
      },
      "execution_count": 33,
      "outputs": [
        {
          "output_type": "display_data",
          "data": {
            "text/plain": [
              "tensor(5.3333)"
            ]
          },
          "metadata": {}
        },
        {
          "output_type": "display_data",
          "data": {
            "text/plain": [
              "tensor(5.3333)"
            ]
          },
          "metadata": {}
        }
      ]
    },
    {
      "cell_type": "code",
      "source": [
        "# Find the sum\n",
        "display(torch.sum(A))\n",
        "display(A.sum())"
      ],
      "metadata": {
        "colab": {
          "base_uri": "https://localhost:8080/",
          "height": 52
        },
        "id": "71zqGURM8kbu",
        "outputId": "c537aaa2-9e96-4821-9143-0132e7c1d7e6"
      },
      "execution_count": 34,
      "outputs": [
        {
          "output_type": "display_data",
          "data": {
            "text/plain": [
              "tensor(64)"
            ]
          },
          "metadata": {}
        },
        {
          "output_type": "display_data",
          "data": {
            "text/plain": [
              "tensor(64)"
            ]
          },
          "metadata": {}
        }
      ]
    },
    {
      "cell_type": "code",
      "source": [
        "# Find the stdev\n",
        "display(torch.std(A.type(torch.float32)))\n",
        "display(A.type(torch.float32).std())"
      ],
      "metadata": {
        "colab": {
          "base_uri": "https://localhost:8080/",
          "height": 52
        },
        "id": "4_d47ese9BCv",
        "outputId": "675d630f-0e90-4591-d75a-412123d47b96"
      },
      "execution_count": 35,
      "outputs": [
        {
          "output_type": "display_data",
          "data": {
            "text/plain": [
              "tensor(2.1034)"
            ]
          },
          "metadata": {}
        },
        {
          "output_type": "display_data",
          "data": {
            "text/plain": [
              "tensor(2.1034)"
            ]
          },
          "metadata": {}
        }
      ]
    },
    {
      "cell_type": "code",
      "source": [
        "# Find the positional min/max\n",
        "display(A)\n",
        "print('\\n')\n",
        "display(torch.argmin(A,0)) # Find the minimum location in the 0th axis\n",
        "display(A.argmin(1)) # Find the minimum location in the 1st axis"
      ],
      "metadata": {
        "colab": {
          "base_uri": "https://localhost:8080/",
          "height": 139
        },
        "id": "9yifhZ9U9NA1",
        "outputId": "6937669a-873c-4ae2-d9fd-93613337b16b"
      },
      "execution_count": 36,
      "outputs": [
        {
          "output_type": "display_data",
          "data": {
            "text/plain": [
              "tensor([[6, 3, 7, 4],\n",
              "        [6, 9, 2, 6],\n",
              "        [7, 4, 3, 7]])"
            ]
          },
          "metadata": {}
        },
        {
          "output_type": "stream",
          "name": "stdout",
          "text": [
            "\n",
            "\n"
          ]
        },
        {
          "output_type": "display_data",
          "data": {
            "text/plain": [
              "tensor([0, 0, 1, 0])"
            ]
          },
          "metadata": {}
        },
        {
          "output_type": "display_data",
          "data": {
            "text/plain": [
              "tensor([1, 2, 2])"
            ]
          },
          "metadata": {}
        }
      ]
    },
    {
      "cell_type": "markdown",
      "source": [
        "# Interaction with Numpy"
      ],
      "metadata": {
        "id": "UylFzBxqKvZw"
      }
    },
    {
      "cell_type": "code",
      "source": [
        "np.random.seed(16)\n",
        "\n",
        "np_array = np.random.randint(0,10,12)\n",
        "# Numpy array to PyTorch tensor\n",
        "A = torch.tensor(np_array,dtype=torch.float32).reshape(3,4)\n",
        "B = torch.from_numpy(np_array).reshape(3,4).type(torch.float32)\n",
        "\n",
        "display(A)\n",
        "display(B)"
      ],
      "metadata": {
        "colab": {
          "base_uri": "https://localhost:8080/",
          "height": 121
        },
        "id": "tqiL9LuLKw9r",
        "outputId": "577693f8-e754-4748-d281-4a0afa54d181"
      },
      "execution_count": 37,
      "outputs": [
        {
          "output_type": "display_data",
          "data": {
            "text/plain": [
              "tensor([[9., 9., 5., 1.],\n",
              "        [4., 4., 9., 0.],\n",
              "        [0., 8., 2., 4.]])"
            ]
          },
          "metadata": {}
        },
        {
          "output_type": "display_data",
          "data": {
            "text/plain": [
              "tensor([[9., 9., 5., 1.],\n",
              "        [4., 4., 9., 0.],\n",
              "        [0., 8., 2., 4.]])"
            ]
          },
          "metadata": {}
        }
      ]
    },
    {
      "cell_type": "code",
      "source": [
        "A.numpy()"
      ],
      "metadata": {
        "colab": {
          "base_uri": "https://localhost:8080/"
        },
        "id": "Y0XgrGSCLB_N",
        "outputId": "aa76b6f3-f53e-47dd-922f-e50c4af1bc2f"
      },
      "execution_count": 38,
      "outputs": [
        {
          "output_type": "execute_result",
          "data": {
            "text/plain": [
              "array([[9., 9., 5., 1.],\n",
              "       [4., 4., 9., 0.],\n",
              "       [0., 8., 2., 4.]], dtype=float32)"
            ]
          },
          "metadata": {},
          "execution_count": 38
        }
      ]
    },
    {
      "cell_type": "markdown",
      "source": [
        "# Using PyTroch with GPU"
      ],
      "metadata": {
        "id": "LNwAub8JUE5Q"
      }
    },
    {
      "cell_type": "code",
      "source": [
        "!nvidia-smi"
      ],
      "metadata": {
        "colab": {
          "base_uri": "https://localhost:8080/"
        },
        "id": "h7xDa9xQUGyp",
        "outputId": "82dc945a-3586-4c9e-ca49-eee981d110fd"
      },
      "execution_count": 39,
      "outputs": [
        {
          "output_type": "stream",
          "name": "stdout",
          "text": [
            "Tue May 27 04:28:32 2025       \n",
            "+-----------------------------------------------------------------------------------------+\n",
            "| NVIDIA-SMI 550.54.15              Driver Version: 550.54.15      CUDA Version: 12.4     |\n",
            "|-----------------------------------------+------------------------+----------------------+\n",
            "| GPU  Name                 Persistence-M | Bus-Id          Disp.A | Volatile Uncorr. ECC |\n",
            "| Fan  Temp   Perf          Pwr:Usage/Cap |           Memory-Usage | GPU-Util  Compute M. |\n",
            "|                                         |                        |               MIG M. |\n",
            "|=========================================+========================+======================|\n",
            "|   0  Tesla T4                       Off |   00000000:00:04.0 Off |                    0 |\n",
            "| N/A   48C    P8              9W /   70W |       0MiB /  15360MiB |      0%      Default |\n",
            "|                                         |                        |                  N/A |\n",
            "+-----------------------------------------+------------------------+----------------------+\n",
            "                                                                                         \n",
            "+-----------------------------------------------------------------------------------------+\n",
            "| Processes:                                                                              |\n",
            "|  GPU   GI   CI        PID   Type   Process name                              GPU Memory |\n",
            "|        ID   ID                                                               Usage      |\n",
            "|=========================================================================================|\n",
            "|  No running processes found                                                             |\n",
            "+-----------------------------------------------------------------------------------------+\n"
          ]
        }
      ]
    },
    {
      "cell_type": "code",
      "source": [
        "torch.cuda.is_available()"
      ],
      "metadata": {
        "colab": {
          "base_uri": "https://localhost:8080/"
        },
        "id": "AjjPOrG4UIF-",
        "outputId": "d3acfecc-7407-4f89-97a1-6d6686dda8ed"
      },
      "execution_count": 40,
      "outputs": [
        {
          "output_type": "execute_result",
          "data": {
            "text/plain": [
              "True"
            ]
          },
          "metadata": {},
          "execution_count": 40
        }
      ]
    },
    {
      "cell_type": "code",
      "source": [
        "# Setup device agnosic code\n",
        "device = 'cuda' if torch.cuda.is_available() else 'cpu'\n",
        "device"
      ],
      "metadata": {
        "colab": {
          "base_uri": "https://localhost:8080/",
          "height": 35
        },
        "id": "XDIAPwEDUMRu",
        "outputId": "a790dd45-bddd-4b4c-9a20-6a4c7d86d0fb"
      },
      "execution_count": 41,
      "outputs": [
        {
          "output_type": "execute_result",
          "data": {
            "text/plain": [
              "'cuda'"
            ],
            "application/vnd.google.colaboratory.intrinsic+json": {
              "type": "string"
            }
          },
          "metadata": {},
          "execution_count": 41
        }
      ]
    },
    {
      "cell_type": "code",
      "source": [
        "# Count of GPUs\n",
        "torch.cuda.device_count()"
      ],
      "metadata": {
        "colab": {
          "base_uri": "https://localhost:8080/"
        },
        "id": "44chaOdBUbdu",
        "outputId": "bfb635ca-9824-43e7-f8db-91a47ad74492"
      },
      "execution_count": 42,
      "outputs": [
        {
          "output_type": "execute_result",
          "data": {
            "text/plain": [
              "1"
            ]
          },
          "metadata": {},
          "execution_count": 42
        }
      ]
    },
    {
      "cell_type": "code",
      "source": [
        "# Putting tensor on a GPU\\\n",
        "\n",
        "A = torch.randn(size=(4,3))\n",
        "display(A)\n",
        "display(A.device)\n",
        "print('\\n')\n",
        "\n",
        "# Moving tensor to GPU\n",
        "A_GPU = A.to(device)\n",
        "display(A_GPU)\n",
        "display(A_GPU.device)"
      ],
      "metadata": {
        "colab": {
          "base_uri": "https://localhost:8080/",
          "height": 225
        },
        "id": "83FnaExAUk2n",
        "outputId": "a1aec9e8-71c2-4652-8510-7932ae12d5aa"
      },
      "execution_count": 43,
      "outputs": [
        {
          "output_type": "display_data",
          "data": {
            "text/plain": [
              "tensor([[-0.1452, -1.4190, -0.1203],\n",
              "        [ 0.4060, -0.0711,  0.2325],\n",
              "        [-0.7044,  1.5600, -0.5783],\n",
              "        [-0.3500, -0.7844,  0.2953]])"
            ]
          },
          "metadata": {}
        },
        {
          "output_type": "display_data",
          "data": {
            "text/plain": [
              "device(type='cpu')"
            ]
          },
          "metadata": {}
        },
        {
          "output_type": "stream",
          "name": "stdout",
          "text": [
            "\n",
            "\n"
          ]
        },
        {
          "output_type": "display_data",
          "data": {
            "text/plain": [
              "tensor([[-0.1452, -1.4190, -0.1203],\n",
              "        [ 0.4060, -0.0711,  0.2325],\n",
              "        [-0.7044,  1.5600, -0.5783],\n",
              "        [-0.3500, -0.7844,  0.2953]], device='cuda:0')"
            ]
          },
          "metadata": {}
        },
        {
          "output_type": "display_data",
          "data": {
            "text/plain": [
              "device(type='cuda', index=0)"
            ]
          },
          "metadata": {}
        }
      ]
    },
    {
      "cell_type": "code",
      "source": [
        "# Moving tensor back to CPU\n",
        "# NumPy cant process tensor thas on a GPU\n",
        "\n",
        "A_GPU.cpu().numpy()"
      ],
      "metadata": {
        "colab": {
          "base_uri": "https://localhost:8080/"
        },
        "id": "stSf5yfWViTE",
        "outputId": "87d7fbbd-d96a-46b5-b999-3616b691a92f"
      },
      "execution_count": 44,
      "outputs": [
        {
          "output_type": "execute_result",
          "data": {
            "text/plain": [
              "array([[-0.14523257, -1.418966  , -0.12026791],\n",
              "       [ 0.40604582, -0.07111763,  0.23252818],\n",
              "       [-0.70441246,  1.5599576 , -0.5782523 ],\n",
              "       [-0.35001722, -0.78442484,  0.2953222 ]], dtype=float32)"
            ]
          },
          "metadata": {},
          "execution_count": 44
        }
      ]
    },
    {
      "cell_type": "code",
      "source": [],
      "metadata": {
        "id": "KeWNP0xTWWTE"
      },
      "execution_count": 44,
      "outputs": []
    }
  ]
}