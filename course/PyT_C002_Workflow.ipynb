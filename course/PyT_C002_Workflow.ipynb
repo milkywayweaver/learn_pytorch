{
  "nbformat": 4,
  "nbformat_minor": 0,
  "metadata": {
    "colab": {
      "provenance": [],
      "collapsed_sections": [
        "QnTmyDg-coVI",
        "16Xj5kL7uCS0",
        "m3AuVxsV1Pu9",
        "3TqHBIA8KjbU",
        "XxQ41Ig_PgMD"
      ],
      "gpuType": "T4",
      "authorship_tag": "ABX9TyMe7pUX/6oasr7xYk01W6Ci",
      "include_colab_link": true
    },
    "kernelspec": {
      "name": "python3",
      "display_name": "Python 3"
    },
    "language_info": {
      "name": "python"
    },
    "accelerator": "GPU"
  },
  "cells": [
    {
      "cell_type": "markdown",
      "metadata": {
        "id": "view-in-github",
        "colab_type": "text"
      },
      "source": [
        "<a href=\"https://colab.research.google.com/github/milkywayweaver/learn_pytorch/blob/main/course/PyT_C002_Workflow.ipynb\" target=\"_parent\"><img src=\"https://colab.research.google.com/assets/colab-badge.svg\" alt=\"Open In Colab\"/></a>"
      ]
    },
    {
      "cell_type": "markdown",
      "source": [
        "**PyTorch for Deep Learning & Machine Learning: Workflow** <br>\n",
        "<br>\n",
        "📖 Course: <br>\n",
        " PyTorch for Deep Learning & Machine Learning - freeCodeCamp.org, taught by Daniel Bourke. <br>\n",
        "https://youtu.be/V_xro1bcAuA?si=luBE0ln8qKDfQWyM"
      ],
      "metadata": {
        "id": "rv5L0KmC_uf1"
      }
    },
    {
      "cell_type": "code",
      "execution_count": null,
      "metadata": {
        "colab": {
          "base_uri": "https://localhost:8080/"
        },
        "id": "4cfRly3OrgBW",
        "outputId": "5bbfe514-c409-42f0-dd02-6168eb7ea0f7"
      },
      "outputs": [
        {
          "output_type": "stream",
          "name": "stdout",
          "text": [
            "2.6.0+cu124\n"
          ]
        }
      ],
      "source": [
        "import torch\n",
        "from torch import nn\n",
        "print(torch.__version__)\n",
        "\n",
        "import pandas as pd\n",
        "import numpy as np\n",
        "import matplotlib.pyplot as plt"
      ]
    },
    {
      "cell_type": "code",
      "source": [
        "outline = {1 : 'Getting the data ready',\n",
        "           2 : 'Build a model',\n",
        "           3 : 'Fit the model',\n",
        "           4 : 'Making predictions and evaluating a model',\n",
        "           5 : 'Saving and loading a model',\n",
        "           6 : 'Putting it all together'}"
      ],
      "metadata": {
        "id": "zH7JdTGSrxds"
      },
      "execution_count": null,
      "outputs": []
    },
    {
      "cell_type": "markdown",
      "source": [
        "# Plot Functions"
      ],
      "metadata": {
        "id": "QnTmyDg-coVI"
      }
    },
    {
      "cell_type": "code",
      "source": [
        "# def plot_prediction(X=X,X_test=X_test,X_train=X_train,y_train=y_train,y_test=y_test,y_preds=None):\n",
        "def plot_prediction(X,X_train,X_test,y_train,y_test,y_preds=None):\n",
        "  X = X.cpu()\n",
        "  X_train = X_train.cpu()\n",
        "  X_test = X_test.cpu()\n",
        "  y_train = y_train.cpu()\n",
        "  y_test = y_test.cpu()\n",
        "\n",
        "  plt.figure(figsize=(4,3))\n",
        "  plt.plot(X,weight*X+bias,label='Line',color='lightgrey',linewidth=0.8,zorder=0)\n",
        "  plt.scatter(X_train,y_train,label='Train',marker='.',color='silver',zorder=2)\n",
        "  plt.scatter(X_test,y_test,label='Test',marker='.',color='C0',zorder=3)\n",
        "  if y_preds != None:\n",
        "    plt.scatter(X_test,y_preds,label='Prediction',marker='.',color='C2',zorder=4)\n",
        "  plt.xlabel('x')\n",
        "  plt.ylabel('y')\n",
        "  plt.legend()\n",
        "  plt.show()\n",
        "\n",
        "def plot_loss_curve():\n",
        "  plt.figure(figsize=(4,3))\n",
        "  plt.plot(epoch_counts,losses,label='Loss')\n",
        "  plt.plot(epoch_counts,test_losses,label='Test Loss')\n",
        "  plt.xlabel('Epochs')\n",
        "  plt.ylabel('Loss')\n",
        "  # plt.axvline(35,color='lightgrey',zorder=0,linewidth=1)\n",
        "  plt.title('Loss Curve')\n",
        "  plt.legend()\n",
        "  plt.show()"
      ],
      "metadata": {
        "id": "uEp5chZJyeEr"
      },
      "execution_count": null,
      "outputs": []
    },
    {
      "cell_type": "markdown",
      "source": [
        "# Getting the data ready"
      ],
      "metadata": {
        "id": "16Xj5kL7uCS0"
      }
    },
    {
      "cell_type": "markdown",
      "source": [
        "Create the data"
      ],
      "metadata": {
        "id": "za_WSU5909yv"
      }
    },
    {
      "cell_type": "code",
      "source": [
        "np.random.seed(16)\n",
        "\n",
        "# Create *known* parameters\n",
        "weight = 1.6\n",
        "bias = 4.6\n",
        "\n",
        "# Create the tensors\n",
        "X = torch.arange(0,1,0.02).unsqueeze(1)\n",
        "y_noise = torch.tensor(np.random.normal(0,0.05,size=X.squeeze().shape[0])).unsqueeze(1)\n",
        "y = weight*X + bias + y_noise\n",
        "\n",
        "plt.figure(figsize=(4,3))\n",
        "plt.scatter(X,y,marker='.')\n",
        "plt.xlabel('x')\n",
        "plt.ylabel('y')\n",
        "plt.show()"
      ],
      "metadata": {
        "colab": {
          "base_uri": "https://localhost:8080/",
          "height": 311
        },
        "id": "ODyvtUCIuIrl",
        "outputId": "6f1ccea9-9ff0-4d78-93f4-3fef6934d728"
      },
      "execution_count": null,
      "outputs": [
        {
          "output_type": "display_data",
          "data": {
            "text/plain": [
              "<Figure size 400x300 with 1 Axes>"
            ],
            "image/png": "[encoded data removed]"
          },
          "metadata": {}
        }
      ]
    },
    {
      "cell_type": "markdown",
      "source": [
        "Split training and testing data"
      ],
      "metadata": {
        "id": "NBLQbgMF06Rv"
      }
    },
    {
      "cell_type": "code",
      "source": [
        "from sklearn.model_selection import train_test_split\n",
        "\n",
        "X_train, X_test, y_train, y_test = train_test_split(X,y,test_size=0.2,random_state=46)\n",
        "plot_prediction(X,X_train,X_test,y_train,y_test)"
      ],
      "metadata": {
        "colab": {
          "base_uri": "https://localhost:8080/",
          "height": 311
        },
        "id": "26r4beaBvlAB",
        "outputId": "aab179f2-b299-4a6b-fc70-27d01c7d2b7a"
      },
      "execution_count": null,
      "outputs": [
        {
          "output_type": "display_data",
          "data": {
            "text/plain": [
              "<Figure size 400x300 with 1 Axes>"
            ],
            "image/png": "[encoded data removed]"
          },
          "metadata": {}
        }
      ]
    },
    {
      "cell_type": "markdown",
      "source": [
        "# Build a model (using OOP :< )"
      ],
      "metadata": {
        "id": "m3AuVxsV1Pu9"
      }
    },
    {
      "cell_type": "markdown",
      "source": [
        "📖 Gradient Descent : https://www.youtube.com/watch?v=IHZwWFHWa-w <br>\n",
        "📖 Backpropagation : https://www.youtube.com/watch?v=Ilg3gGewQ5U"
      ],
      "metadata": {
        "id": "0ZbB6J1z4BAZ"
      }
    },
    {
      "cell_type": "code",
      "source": [
        "# Create a linear regression model class\n",
        "class LinearRegressionModel(nn.Module):\n",
        "  def __init__(self):\n",
        "    super().__init__()\n",
        "\n",
        "    # Initialize model parameters\n",
        "    self.weight = nn.Parameter(torch.randn(1,requires_grad=True,dtype=torch.float32))\n",
        "    self.bias = nn.Parameter(torch.randn(1,requires_grad=True,dtype=torch.float32))\n",
        "\n",
        "  # Forward method to define the computation in the model\n",
        "  def forward(self, x: torch.Tensor) -> torch.Tensor:\n",
        "    return self.weight * x + self.bias"
      ],
      "metadata": {
        "id": "JpzSRdPPxIHf"
      },
      "execution_count": null,
      "outputs": []
    },
    {
      "cell_type": "markdown",
      "source": [
        "**PyTorch Model Building Essentials**\n",
        "1. torch.nn : all the essentials for neural networks\n",
        "2. torch.nn.Parameter : parameters that the model try to learn\n",
        "3. torch.nn.Modules : base class for all neural network modules\n",
        "4. torch.optim : contains optimizers algorithms\n",
        "5. def forward() - all nn.Module subclasses need you to overwrite forward()"
      ],
      "metadata": {
        "id": "P7FVsI1q5wXZ"
      }
    },
    {
      "cell_type": "markdown",
      "source": [
        "**Checking the contents of a PyTorch model**"
      ],
      "metadata": {
        "id": "eDl6W_qI7uFY"
      }
    },
    {
      "cell_type": "code",
      "source": [
        "torch.manual_seed(16)\n",
        "\n",
        "# Create a model instance\n",
        "model_0 = LinearRegressionModel()\n",
        "list(model_0.parameters())"
      ],
      "metadata": {
        "colab": {
          "base_uri": "https://localhost:8080/"
        },
        "id": "kPi4Z8qi4wtK",
        "outputId": "5569f41f-def2-4831-c2c0-55f3ac7cfe78"
      },
      "execution_count": null,
      "outputs": [
        {
          "output_type": "execute_result",
          "data": {
            "text/plain": [
              "[Parameter containing:\n",
              " tensor([-0.3329], requires_grad=True),\n",
              " Parameter containing:\n",
              " tensor([1.0216], requires_grad=True)]"
            ]
          },
          "metadata": {},
          "execution_count": 7
        }
      ]
    },
    {
      "cell_type": "code",
      "source": [
        "model_0.state_dict()"
      ],
      "metadata": {
        "colab": {
          "base_uri": "https://localhost:8080/"
        },
        "id": "TsXQlWR271dB",
        "outputId": "b9775f65-0ee9-4d5b-be63-fb2f1d7d9de2"
      },
      "execution_count": null,
      "outputs": [
        {
          "output_type": "execute_result",
          "data": {
            "text/plain": [
              "OrderedDict([('weight', tensor([-0.3329])), ('bias', tensor([1.0216]))])"
            ]
          },
          "metadata": {},
          "execution_count": 8
        }
      ]
    },
    {
      "cell_type": "markdown",
      "source": [
        "**Training the model**"
      ],
      "metadata": {
        "id": "Rj0W1_SGJdU-"
      }
    },
    {
      "cell_type": "markdown",
      "source": [
        "1. Epoch loops\n",
        "2. Forwards pass\n",
        "3. Calculate loss\n",
        "4. Zero Gradient Optimizer\n",
        "5. Backpropagation\n",
        "6. Optimize parameters"
      ],
      "metadata": {
        "id": "hY7QkpIsMmSY"
      }
    },
    {
      "cell_type": "code",
      "source": [
        "# Setup a loss function\n",
        "loss_fn = nn.L1Loss()\n",
        "\n",
        "# Setup an optimizer ---> Stochastic Gradient Descent (SGD)\n",
        "optimizer = torch.optim.SGD(params=model_0.parameters(), lr=0.1)"
      ],
      "metadata": {
        "id": "93usFqTJ_6o-"
      },
      "execution_count": null,
      "outputs": []
    },
    {
      "cell_type": "code",
      "source": [
        "# Build a training loop\n",
        "torch.manual_seed(16)\n",
        "epochs = 100\n",
        "\n",
        "epoch_counts = []\n",
        "losses = []\n",
        "test_losses = []\n",
        "\n",
        "for epoch in range(epochs):\n",
        "  # Sets all parameters that require gradients to require gradients\n",
        "  model_0.train()\n",
        "  # Forward pass\n",
        "  y_pred = model_0(X_train)\n",
        "  # Calculate loss function\n",
        "  loss = loss_fn(y_pred,y_train)\n",
        "  # Zero gradient optimizer - removes the previous interation's gradients\n",
        "  optimizer.zero_grad()\n",
        "  # Backpropagate\n",
        "  loss.backward()\n",
        "  # Optimize the parameter\n",
        "  optimizer.step()\n",
        "\n",
        "  model_0.eval() # Turns off gradient tracking\n",
        "  with torch.inference_mode():\n",
        "    test_pred = model_0(X_test)\n",
        "    test_loss = loss_fn(test_pred,y_test)\n",
        "  if epoch % 10 == 0:\n",
        "    print(f'Epoch: {epoch} \\t| Loss: {loss} \\t| Test Loss: {test_loss}')\n",
        "\n",
        "    epoch_counts.append(epoch)\n",
        "    losses.append(loss.detach().item())\n",
        "    test_losses.append(test_loss.detach().item())\n",
        "\n",
        "\n",
        "print(loss)"
      ],
      "metadata": {
        "colab": {
          "base_uri": "https://localhost:8080/"
        },
        "id": "mOSsIctOHHlb",
        "outputId": "b9dc3703-7147-4881-c915-2aaa8303dc30"
      },
      "execution_count": null,
      "outputs": [
        {
          "output_type": "stream",
          "name": "stdout",
          "text": [
            "Epoch: 0 \t| Loss: 4.589424558264186 \t| Test Loss: 4.126805746179205\n",
            "Epoch: 10 \t| Loss: 3.3127483326019544 \t| Test Loss: 2.9448095913940486\n",
            "Epoch: 20 \t| Loss: 2.0360732036651865 \t| Test Loss: 1.762814509492498\n",
            "Epoch: 30 \t| Loss: 0.759398074728419 \t| Test Loss: 0.5808194037490898\n",
            "Epoch: 40 \t| Loss: 0.04556413963434638 \t| Test Loss: 0.026080135566386175\n",
            "Epoch: 50 \t| Loss: 0.04365094583197386 \t| Test Loss: 0.025632309932408327\n",
            "Epoch: 60 \t| Loss: 0.04349667607760681 \t| Test Loss: 0.020508054954203558\n",
            "Epoch: 70 \t| Loss: 0.04324527499975832 \t| Test Loss: 0.027484869975743287\n",
            "Epoch: 80 \t| Loss: 0.04322926519217165 \t| Test Loss: 0.028644633311924926\n",
            "Epoch: 90 \t| Loss: 0.04323207853140505 \t| Test Loss: 0.028441500682530395\n",
            "tensor(0.0432, dtype=torch.float64, grad_fn=<MeanBackward0>)\n"
          ]
        }
      ]
    },
    {
      "cell_type": "code",
      "source": [
        "display(model_0.state_dict())\n",
        "y_preds = model_0(X_test).detach()\n",
        "\n",
        "plot_prediction(X,X_train,X_test,y_train,y_test,y_preds=y_preds)"
      ],
      "metadata": {
        "colab": {
          "base_uri": "https://localhost:8080/"
        },
        "id": "XZuSRxHmJgNe",
        "outputId": "0888b080-99bf-48f2-ab12-ab2a7db79779"
      },
      "execution_count": null,
      "outputs": [
        {
          "output_type": "display_data",
          "data": {
            "text/plain": [
              "OrderedDict([('weight', tensor([1.6334])), ('bias', tensor([4.5666]))])"
            ]
          },
          "metadata": {}
        },
        {
          "output_type": "display_data",
          "data": {
            "text/plain": [
              "<Figure size 400x300 with 1 Axes>"
            ],
            "image/png": "[encoded data removed]"
          },
          "metadata": {}
        }
      ]
    },
    {
      "cell_type": "code",
      "source": [
        "len(epoch_counts),len(losses),len(test_losses)"
      ],
      "metadata": {
        "colab": {
          "base_uri": "https://localhost:8080/"
        },
        "id": "CI5cTlKEeEtw",
        "outputId": "6654a31e-9f6a-4a89-ba41-9294dfd71dee"
      },
      "execution_count": null,
      "outputs": [
        {
          "output_type": "execute_result",
          "data": {
            "text/plain": [
              "(10, 10, 10)"
            ]
          },
          "metadata": {},
          "execution_count": 12
        }
      ]
    },
    {
      "cell_type": "code",
      "source": [
        "plot_loss_curve()"
      ],
      "metadata": {
        "colab": {
          "base_uri": "https://localhost:8080/"
        },
        "id": "nQolO9y6yzqx",
        "outputId": "a0ed1e21-c6a8-4e39-e334-39ad0f2829fe"
      },
      "execution_count": null,
      "outputs": [
        {
          "output_type": "display_data",
          "data": {
            "text/plain": [
              "<Figure size 400x300 with 1 Axes>"
            ],
            "image/png": "[encoded data removed]"
          },
          "metadata": {}
        }
      ]
    },
    {
      "cell_type": "markdown",
      "source": [
        "# Saving a model <br>\n"
      ],
      "metadata": {
        "id": "3TqHBIA8KjbU"
      }
    },
    {
      "cell_type": "markdown",
      "source": [
        "💡 Three main methods for saving/loading a PyTorch model\n",
        "1. torch.save()\n",
        "2. torch.load()\n",
        "3. torch.nn.Module.load_state_dict() <br>\n",
        "\n",
        "📖 Extra resource : https://docs.pytorch.org/tutorials/beginner/saving_loading_models.html"
      ],
      "metadata": {
        "id": "FFL3PCcVLJ6x"
      }
    },
    {
      "cell_type": "code",
      "source": [
        "from pathlib import Path\n",
        "\n",
        "# Create a folder and path\n",
        "MODEL_PATH = Path('models')\n",
        "MODEL_PATH.mkdir(parents=True,exist_ok=True)\n",
        "\n",
        "MODEL_NAME = 'PyT_C002_model_0.pth'\n",
        "MODEL_SAVE_PATH = MODEL_PATH / MODEL_NAME\n",
        "\n",
        "print(MODEL_SAVE_PATH)"
      ],
      "metadata": {
        "colab": {
          "base_uri": "https://localhost:8080/"
        },
        "id": "_gitEVrq3qtu",
        "outputId": "b218410f-a84a-4ef4-c81d-b6c342c8d585"
      },
      "execution_count": null,
      "outputs": [
        {
          "output_type": "stream",
          "name": "stdout",
          "text": [
            "models/PyT_C002_model_0.pth\n"
          ]
        }
      ]
    },
    {
      "cell_type": "code",
      "source": [
        "# Save the state dict\n",
        "print(f'Saving model to: {MODEL_SAVE_PATH}')\n",
        "torch.save(model_0.state_dict(),MODEL_SAVE_PATH)\n",
        "print(f'Successfully saved model to: {MODEL_SAVE_PATH}')"
      ],
      "metadata": {
        "colab": {
          "base_uri": "https://localhost:8080/"
        },
        "id": "6DRTNQ2gMHF2",
        "outputId": "c74e57b7-4b6f-496c-ca57-59a010a56d99"
      },
      "execution_count": null,
      "outputs": [
        {
          "output_type": "stream",
          "name": "stdout",
          "text": [
            "Saving model to: models/PyT_C002_model_0.pth\n",
            "Successfully saved model to: models/PyT_C002_model_0.pth\n"
          ]
        }
      ]
    },
    {
      "cell_type": "code",
      "source": [
        "# Loading back the model\n",
        "# Initiate the model\n",
        "model_0_loaded = LinearRegressionModel()\n",
        "\n",
        "# The load loads only the state dict, NOT the entire model.\n",
        "model_0_save_dict = torch.load(MODEL_SAVE_PATH)\n",
        "model_0_loaded.load_state_dict(model_0_save_dict)\n",
        "\n",
        "# Plot predictions\n",
        "model_0_loaded.eval()\n",
        "with torch.inference_mode():\n",
        "  y_pred_loaded = model_0_loaded(X_test).detach()\n",
        "\n",
        "plot_prediction(X,X_train,X_test,y_train,y_test,y_preds=y_pred_loaded)"
      ],
      "metadata": {
        "colab": {
          "base_uri": "https://localhost:8080/"
        },
        "id": "OlBzyS2_MxK7",
        "outputId": "1b21599b-b680-4389-92d9-b0f293a0165e"
      },
      "execution_count": null,
      "outputs": [
        {
          "output_type": "display_data",
          "data": {
            "text/plain": [
              "<Figure size 400x300 with 1 Axes>"
            ],
            "image/png": "[encoded data removed]"
          },
          "metadata": {}
        }
      ]
    },
    {
      "cell_type": "code",
      "source": [
        "# Compare the created model and loaded model\n",
        "y_preds == y_pred_loaded"
      ],
      "metadata": {
        "colab": {
          "base_uri": "https://localhost:8080/"
        },
        "id": "15O5zeHvNzYk",
        "outputId": "5e0d37be-22b4-4965-e20a-a486022463e6"
      },
      "execution_count": null,
      "outputs": [
        {
          "output_type": "execute_result",
          "data": {
            "text/plain": [
              "tensor([[True],\n",
              "        [True],\n",
              "        [True],\n",
              "        [True],\n",
              "        [True],\n",
              "        [True],\n",
              "        [True],\n",
              "        [True],\n",
              "        [True],\n",
              "        [True]])"
            ]
          },
          "metadata": {},
          "execution_count": 17
        }
      ]
    },
    {
      "cell_type": "markdown",
      "source": [
        "# Practice"
      ],
      "metadata": {
        "id": "XxQ41Ig_PgMD"
      }
    },
    {
      "cell_type": "markdown",
      "source": [
        "✅ Creating the data"
      ],
      "metadata": {
        "id": "mgfdRN7XQpAq"
      }
    },
    {
      "cell_type": "code",
      "source": [
        "device = 'cuda' if torch.cuda.is_available() else 'cpu'\n",
        "device"
      ],
      "metadata": {
        "colab": {
          "base_uri": "https://localhost:8080/",
          "height": 35
        },
        "id": "QWeEOKrmKC7T",
        "outputId": "3e2b0499-86ba-4d14-c33e-eac80a2f672b"
      },
      "execution_count": null,
      "outputs": [
        {
          "output_type": "execute_result",
          "data": {
            "text/plain": [
              "'cuda'"
            ],
            "application/vnd.google.colaboratory.intrinsic+json": {
              "type": "string"
            }
          },
          "metadata": {},
          "execution_count": 18
        }
      ]
    },
    {
      "cell_type": "code",
      "source": [
        "np.random.seed(46)\n",
        "\n",
        "# Target weight and bias\n",
        "weight = -0.4\n",
        "bias = -2.1\n",
        "\n",
        "# Create the data\n",
        "X = torch.arange(0,10,0.2,dtype=torch.float32).unsqueeze(1)\n",
        "y_noise = torch.tensor(np.random.normal(0,0.3,size=X.squeeze().shape[0])).unsqueeze(1)\n",
        "y = weight * X + bias + y_noise\n",
        "\n",
        "# Split training and testing data\n",
        "X_train, X_test, y_train, y_test = train_test_split(X,y,test_size=0.2,random_state=16)\n",
        "\n",
        "# View the data\n",
        "plot_prediction(X,X_train,X_test,y_train,y_test)"
      ],
      "metadata": {
        "colab": {
          "base_uri": "https://localhost:8080/",
          "height": 311
        },
        "id": "bBHJq8vQPjSi",
        "outputId": "fd576501-7b95-43c4-ca9b-3c9fe3e9a3eb"
      },
      "execution_count": null,
      "outputs": [
        {
          "output_type": "display_data",
          "data": {
            "text/plain": [
              "<Figure size 400x300 with 1 Axes>"
            ],
            "image/png": "[encoded data removed]"
          },
          "metadata": {}
        }
      ]
    },
    {
      "cell_type": "markdown",
      "source": [
        "✅ Create the model"
      ],
      "metadata": {
        "id": "fHsTIiTpRvZe"
      }
    },
    {
      "cell_type": "code",
      "source": [
        "class LinearRegressionModel2(nn.Module):\n",
        "  def __init__(self):\n",
        "    super().__init__()\n",
        "    # self.weight = nn.Parameter(torch.randn(1,dtype=torch.float32,requires_grad=True))\n",
        "    # self.bias = nn.Parameter(torch.randn(1,dtype=torch.float32,requires_grad=True))\n",
        "    self.linear_layer = nn.Linear(in_features=1,out_features=1,device=device)\n",
        "\n",
        "  def forward(self, x : torch.Tensor) -> torch.Tensor:\n",
        "    # return self.weight * x + self.bias\n",
        "    return self.linear_layer(x)"
      ],
      "metadata": {
        "id": "yzTqUWAXP58I"
      },
      "execution_count": null,
      "outputs": []
    },
    {
      "cell_type": "markdown",
      "source": [
        "✅ Create training function"
      ],
      "metadata": {
        "id": "2e8qm6oATQbJ"
      }
    },
    {
      "cell_type": "code",
      "source": [
        "def train(model,epochs,lr,div,X_train=X_train,X_test=X_test,y_train=y_train,y_test=y_test):\n",
        "  X_train = X_train.to(device)\n",
        "  X_test = X_test.to(device)\n",
        "  y_train = y_train.to(device)\n",
        "  y_test = y_test.to(device)\n",
        "\n",
        "  # Setup loss function and optimizer\n",
        "  loss_fn = nn.L1Loss()\n",
        "  optimizer = torch.optim.SGD(params=model.parameters(),lr=lr)\n",
        "\n",
        "  # Create tracking arrays\n",
        "  epoch_counts = []\n",
        "  losses = []\n",
        "  test_losses = []\n",
        "\n",
        "  # Train the model\n",
        "  for epoch in range(epochs):\n",
        "    model.train()\n",
        "    y_pred = model(X_train)\n",
        "    loss = loss_fn(y_pred,y_train)\n",
        "    optimizer.zero_grad()\n",
        "    loss.backward()\n",
        "    optimizer.step()\n",
        "\n",
        "    model.eval()\n",
        "    with torch.inference_mode():\n",
        "      test_pred = model(X_test)\n",
        "      test_loss = loss_fn(test_pred,y_test)\n",
        "\n",
        "    if epoch % div == 0:\n",
        "      print(f'Epoch:{epoch} \\t| Loss: {loss} \\t| Test Loss: {test_loss}')\n",
        "\n",
        "    epoch_counts.append(epoch)\n",
        "    losses.append(loss.detach().item())\n",
        "    test_losses.append(test_loss.detach().item())\n",
        "\n",
        "  return epoch_counts,losses,test_losses"
      ],
      "metadata": {
        "id": "hLbv6UvXTP-J"
      },
      "execution_count": null,
      "outputs": []
    },
    {
      "cell_type": "markdown",
      "source": [
        "✅ Train the model"
      ],
      "metadata": {
        "id": "ooAgL9gnVQMi"
      }
    },
    {
      "cell_type": "code",
      "source": [
        "torch.manual_seed(46)\n",
        "model_1 = LinearRegressionModel2().to(device)\n",
        "\n",
        "epoch_counts,losses,test_losses = train(model_1,1000,0.01,50)"
      ],
      "metadata": {
        "colab": {
          "base_uri": "https://localhost:8080/"
        },
        "id": "5EGBoGTJS7rv",
        "outputId": "2f171a15-42e8-451c-9a18-b94047b125b6"
      },
      "execution_count": null,
      "outputs": [
        {
          "output_type": "stream",
          "name": "stdout",
          "text": [
            "Epoch:0 \t| Loss: 2.873136113021717 \t| Test Loss: 2.9261218194308216\n",
            "Epoch:50 \t| Loss: 1.2281709337683795 \t| Test Loss: 0.8691623985700817\n",
            "Epoch:100 \t| Loss: 1.1254086551333244 \t| Test Loss: 0.7980571925573559\n",
            "Epoch:150 \t| Loss: 1.0226461832488354 \t| Test Loss: 0.7288547573698425\n",
            "Epoch:200 \t| Loss: 0.9198837299907979 \t| Test Loss: 0.6653510836971664\n",
            "Epoch:250 \t| Loss: 0.817334283989149 \t| Test Loss: 0.6245877711189651\n",
            "Epoch:300 \t| Loss: 0.7156930124501267 \t| Test Loss: 0.6106728498282368\n",
            "Epoch:350 \t| Loss: 0.6180616162554167 \t| Test Loss: 0.5505227910898315\n",
            "Epoch:400 \t| Loss: 0.5208080567256353 \t| Test Loss: 0.5030207621477233\n",
            "Epoch:450 \t| Loss: 0.42868758990372835 \t| Test Loss: 0.5167842451872761\n",
            "Epoch:500 \t| Loss: 0.3436897962197385 \t| Test Loss: 0.457514602357381\n",
            "Epoch:550 \t| Loss: 0.27210153613573873 \t| Test Loss: 0.40133851211690247\n",
            "Epoch:600 \t| Loss: 0.21535892459156508 \t| Test Loss: 0.3693701092543537\n",
            "Epoch:650 \t| Loss: 0.1897415578952849 \t| Test Loss: 0.3322545992754089\n",
            "Epoch:700 \t| Loss: 0.17495396885073403 \t| Test Loss: 0.3041738259218323\n",
            "Epoch:750 \t| Loss: 0.1752433870298754 \t| Test Loss: 0.3368141953291828\n",
            "Epoch:800 \t| Loss: 0.1751226977064278 \t| Test Loss: 0.34027789276265447\n",
            "Epoch:850 \t| Loss: 0.17023384414221154 \t| Test Loss: 0.3085409151933777\n",
            "Epoch:900 \t| Loss: 0.17245495047276402 \t| Test Loss: 0.2568134772203552\n",
            "Epoch:950 \t| Loss: 0.17233040060704136 \t| Test Loss: 0.2559348570726501\n"
          ]
        }
      ]
    },
    {
      "cell_type": "markdown",
      "source": [
        "✅ Make predictions"
      ],
      "metadata": {
        "id": "Sz_FzTbPVYMw"
      }
    },
    {
      "cell_type": "code",
      "source": [
        "y_preds = model_1(X_test.to(device)).detach()\n",
        "plot_prediction(X,X_train,X_test,y_train,y_test,y_preds=y_preds.cpu())\n",
        "display(model_1.state_dict())"
      ],
      "metadata": {
        "colab": {
          "base_uri": "https://localhost:8080/",
          "height": 346
        },
        "id": "oZAFNe5nTJ35",
        "outputId": "b54b77d6-79b7-4f29-933c-1ca7433e985f"
      },
      "execution_count": null,
      "outputs": [
        {
          "output_type": "display_data",
          "data": {
            "text/plain": [
              "<Figure size 400x300 with 1 Axes>"
            ],
            "image/png": "[encoded data removed]"
          },
          "metadata": {}
        },
        {
          "output_type": "display_data",
          "data": {
            "text/plain": [
              "OrderedDict([('linear_layer.weight', tensor([[-0.3959]], device='cuda:0')),\n",
              "             ('linear_layer.bias', tensor([-2.0920], device='cuda:0'))])"
            ]
          },
          "metadata": {}
        }
      ]
    },
    {
      "cell_type": "code",
      "source": [
        "plot_loss_curve()"
      ],
      "metadata": {
        "colab": {
          "base_uri": "https://localhost:8080/",
          "height": 333
        },
        "id": "5uu4ZWStVgfd",
        "outputId": "212c3d31-31aa-46ca-818e-4f76c60edb4b"
      },
      "execution_count": null,
      "outputs": [
        {
          "output_type": "display_data",
          "data": {
            "text/plain": [
              "<Figure size 400x300 with 1 Axes>"
            ],
            "image/png": "[encoded data removed]"
          },
          "metadata": {}
        }
      ]
    },
    {
      "cell_type": "code",
      "source": [],
      "metadata": {
        "id": "ePZ76msgWWLB"
      },
      "execution_count": null,
      "outputs": []
    }
  ]
}