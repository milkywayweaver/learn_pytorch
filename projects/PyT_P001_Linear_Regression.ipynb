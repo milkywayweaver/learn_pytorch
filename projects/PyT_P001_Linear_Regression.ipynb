{
  "nbformat": 4,
  "nbformat_minor": 0,
  "metadata": {
    "colab": {
      "provenance": [],
      "gpuType": "T4",
      "authorship_tag": "ABX9TyNKLL1KqE4ycjr0x5SQCfnQ",
      "include_colab_link": true
    },
    "kernelspec": {
      "name": "python3",
      "display_name": "Python 3"
    },
    "language_info": {
      "name": "python"
    },
    "accelerator": "GPU"
  },
  "cells": [
    {
      "cell_type": "markdown",
      "metadata": {
        "id": "view-in-github",
        "colab_type": "text"
      },
      "source": [
        "<a href=\"https://colab.research.google.com/github/milkywayweaver/learn_pytorch/blob/main/projects/PyT_P001_Linear_Regression.ipynb\" target=\"_parent\"><img src=\"https://colab.research.google.com/assets/colab-badge.svg\" alt=\"Open In Colab\"/></a>"
      ]
    },
    {
      "cell_type": "markdown",
      "source": [
        "**NEURAL NETWORK LINEAR REGERSSION USING PYTORCH** <br>\n",
        "<br>\n",
        "📖 Link to the course I follow: <br>\n",
        "* PyTorch for Deep Learning & Machine Learning - freeCodeCamp.org, taught by Daniel Bourke. <br>\n",
        "https://youtu.be/V_xro1bcAuA?si=luBE0ln8qKDfQWyM"
      ],
      "metadata": {
        "id": "xEo3rPLw8pMk"
      }
    },
    {
      "cell_type": "code",
      "execution_count": 38,
      "metadata": {
        "id": "O4cplyfDyszt"
      },
      "outputs": [],
      "source": [
        "import torch\n",
        "from torch import nn\n",
        "import pandas as pd\n",
        "import numpy as np\n",
        "import matplotlib.pyplot as plt\n",
        "from sklearn.model_selection import train_test_split"
      ]
    },
    {
      "cell_type": "markdown",
      "source": [
        "✅ Plotting functions"
      ],
      "metadata": {
        "id": "UfXrVxNNKWFF"
      }
    },
    {
      "cell_type": "code",
      "source": [
        "def plot_predictions(X_train,X_test,y_train,y_test,y_pred=None):\n",
        "  X_train = X_train.cpu()\n",
        "  X_test = X_test.cpu()\n",
        "  y_train = y_train.cpu()\n",
        "  y_test = y_test.cpu()\n",
        "\n",
        "  y_real = weight*X_test+bias\n",
        "\n",
        "  plt.figure(figsize=(4,3))\n",
        "  plt.plot(X,weight*X+bias,color='lightgrey',linewidth=1,zorder=0)\n",
        "  plt.scatter(X_train,y_train,color='silver',label='Train',s=6)\n",
        "  plt.scatter(X_test,y_test,color='C0',label='Test',s=6)\n",
        "  if y_pred != None:\n",
        "    # plt.scatter(X_test,y_real,color='greenyellow',s=20,label='Acutal Value',zorder=0)\n",
        "    plt.scatter(X_test,y_pred,color='C2',label='Prediction',s=8)\n",
        "  plt.xlabel('x')\n",
        "  plt.ylabel('y')\n",
        "  plt.title('Data',fontsize=12)\n",
        "  plt.legend(loc='best',fontsize=6)\n",
        "  plt.show()\n",
        "\n",
        "def loss_curve():\n",
        "  plt.figure(figsize=(4,3))\n",
        "  plt.axhline(0,linewidth=1,color='lightgrey',zorder=0,alpha=1)\n",
        "  plt.axhline(0.5,linewidth=1,color='lightgrey',zorder=0,alpha=0.6)\n",
        "  plt.axhline(1,linewidth=1,color='lightgrey',zorder=0,alpha=0.3)\n",
        "  plt.plot(epoch_counts,losses,label='Loss',color='C0')\n",
        "  plt.plot(epoch_counts,test_losses,label='Test Loss',color='C1')\n",
        "  plt.plot(epoch_counts,real_losses,label='Real Loss',color='C2')\n",
        "  plt.title('Loss Curve',fontsize=12)\n",
        "  plt.xlabel('Epoch')\n",
        "  plt.ylabel('Loss')\n",
        "  plt.legend(loc='best',fontsize=8)\n",
        "  plt.show()"
      ],
      "metadata": {
        "id": "U3-zw5AqzilS"
      },
      "execution_count": 39,
      "outputs": []
    },
    {
      "cell_type": "markdown",
      "source": [
        "✅ Creating the data"
      ],
      "metadata": {
        "id": "iaOb77-Gy61m"
      }
    },
    {
      "cell_type": "code",
      "source": [
        "weight = 1.3\n",
        "bias = -2.7\n",
        "\n",
        "X = torch.arange(0,10,0.2).unsqueeze(1)\n",
        "y_noise = torch.tensor(np.random.normal(0,1.0,size=X.shape[0])).unsqueeze(1)\n",
        "y = weight * X + bias + y_noise\n",
        "\n",
        "X_train, X_test, y_train, y_test = train_test_split(X,y,test_size=0.2)\n",
        "\n",
        "plot_predictions(X_train,X_test,y_train,y_test)"
      ],
      "metadata": {
        "colab": {
          "base_uri": "https://localhost:8080/",
          "height": 333
        },
        "id": "jK0FUY-xy0Rd",
        "outputId": "e40691b7-a3fa-404d-a92e-7df7828c9dd6"
      },
      "execution_count": 40,
      "outputs": [
        {
          "output_type": "display_data",
          "data": {
            "text/plain": [
              "<Figure size 400x300 with 1 Axes>"
            ],
            "image/png": "[encoded data removed]"
          },
          "metadata": {}
        }
      ]
    },
    {
      "cell_type": "code",
      "source": [
        "device = 'cuda' if torch.cuda.is_available() else 'cpu'\n",
        "print(f'Device in use: {device}')\n",
        "\n",
        "X_train = X_train.to(device)\n",
        "X_test = X_test.to(device)\n",
        "y_train = y_train.to(device)\n",
        "y_test = y_test.to(device)"
      ],
      "metadata": {
        "colab": {
          "base_uri": "https://localhost:8080/"
        },
        "id": "XI4fmBwE4Q2S",
        "outputId": "9d17d59a-c844-4a04-d410-9c521b29c85a"
      },
      "execution_count": 41,
      "outputs": [
        {
          "output_type": "stream",
          "name": "stdout",
          "text": [
            "Device in use: cuda\n"
          ]
        }
      ]
    },
    {
      "cell_type": "markdown",
      "source": [
        "✅ Prepare the model"
      ],
      "metadata": {
        "id": "O4fCKFiQ16xZ"
      }
    },
    {
      "cell_type": "code",
      "source": [
        "class LinearRegressionModel(nn.Module):\n",
        "  def __init__(self):\n",
        "    super().__init__()\n",
        "    self.linear_layer = nn.Linear(in_features=1,out_features=1,device=device)\n",
        "\n",
        "  def forward(self, x: torch.Tensor) -> torch.Tensor:\n",
        "    return self.linear_layer(x)"
      ],
      "metadata": {
        "id": "V6uOUQEO14Je"
      },
      "execution_count": 42,
      "outputs": []
    },
    {
      "cell_type": "markdown",
      "source": [
        "✅ Make train function"
      ],
      "metadata": {
        "id": "vRYIXJ5V2rgI"
      }
    },
    {
      "cell_type": "code",
      "source": [
        "def train(model,epochs,lr):\n",
        "  loss_fn = nn.L1Loss()\n",
        "  optimizer = torch.optim.SGD(params=model.parameters(),lr=lr)\n",
        "\n",
        "  epoch_counts = []\n",
        "  losses = []\n",
        "  test_losses = []\n",
        "  real_losses = []\n",
        "\n",
        "  for epoch in range(epochs):\n",
        "    # Train\n",
        "    model.train()\n",
        "    y_pred = model(X_train)\n",
        "    loss = loss_fn(y_pred,y_train)\n",
        "    optimizer.zero_grad()\n",
        "    loss.backward()\n",
        "    optimizer.step()\n",
        "\n",
        "    # Evaluate\n",
        "    model.eval()\n",
        "    with torch.inference_mode():\n",
        "      test_pred = model(X_test)\n",
        "      test_loss = loss_fn(test_pred,y_test)\n",
        "      real_loss= loss_fn(test_pred,X_test*weight+bias)\n",
        "\n",
        "    # Print\n",
        "    if epoch % 50 == 0:\n",
        "      print(f'Epoch: {epoch} \\t| Loss: {loss} \\t| T_Loss: {test_loss} \\t| R_Loss: {real_loss}')\n",
        "    epoch_counts.append(epoch)\n",
        "    losses.append(loss.detach().item())\n",
        "    test_losses.append(test_loss.detach().item())\n",
        "    real_losses.append(real_loss.detach().item())\n",
        "\n",
        "  return epoch_counts,losses,test_losses,real_losses"
      ],
      "metadata": {
        "id": "9r10CvpT2Q8v"
      },
      "execution_count": 43,
      "outputs": []
    },
    {
      "cell_type": "markdown",
      "source": [
        "✅ Train the model"
      ],
      "metadata": {
        "id": "TmW0PXZ2KZbF"
      }
    },
    {
      "cell_type": "code",
      "source": [
        "model_0 = LinearRegressionModel()\n",
        "\n",
        "epoch_counts,losses,test_losses,real_losses = train(model_0,epochs=751,lr=0.01)"
      ],
      "metadata": {
        "colab": {
          "base_uri": "https://localhost:8080/"
        },
        "id": "Yzwr6cev3UO8",
        "outputId": "93cb342a-371c-499a-b2ef-9616580e75f0"
      },
      "execution_count": 44,
      "outputs": [
        {
          "output_type": "stream",
          "name": "stdout",
          "text": [
            "Epoch: 0 \t| Loss: 2.2831635227230382 \t| T_Loss: 1.6494055256475713 \t| R_Loss: 1.6154199838638306\n",
            "Epoch: 50 \t| Loss: 1.7345567331962706 \t| T_Loss: 1.6303192951844432 \t| R_Loss: 1.0791900157928467\n",
            "Epoch: 100 \t| Loss: 1.654244132464421 \t| T_Loss: 1.5868194320367075 \t| R_Loss: 1.0174293518066406\n",
            "Epoch: 150 \t| Loss: 1.5740214542799118 \t| T_Loss: 1.542187509791682 \t| R_Loss: 0.9640098810195923\n",
            "Epoch: 200 \t| Loss: 1.4950340921067302 \t| T_Loss: 1.4924078681634165 \t| R_Loss: 0.8942105174064636\n",
            "Epoch: 250 \t| Loss: 1.4159615257136944 \t| T_Loss: 1.4432560661004281 \t| R_Loss: 0.8263912200927734\n",
            "Epoch: 300 \t| Loss: 1.3393381064729064 \t| T_Loss: 1.3934921839402414 \t| R_Loss: 0.7680434584617615\n",
            "Epoch: 350 \t| Loss: 1.2741560694318812 \t| T_Loss: 1.3502640524075724 \t| R_Loss: 0.7124990820884705\n",
            "Epoch: 400 \t| Loss: 1.2152195826356096 \t| T_Loss: 1.3204196113483377 \t| R_Loss: 0.6570428013801575\n",
            "Epoch: 450 \t| Loss: 1.1574426937514395 \t| T_Loss: 1.2904707270996043 \t| R_Loss: 0.6027454733848572\n",
            "Epoch: 500 \t| Loss: 1.0997721804903298 \t| T_Loss: 1.2660257625715206 \t| R_Loss: 0.5458402037620544\n",
            "Epoch: 550 \t| Loss: 1.045496625023209 \t| T_Loss: 1.2454198587076135 \t| R_Loss: 0.49867764115333557\n",
            "Epoch: 600 \t| Loss: 1.0019862471970398 \t| T_Loss: 1.2228906247155138 \t| R_Loss: 0.45529651641845703\n",
            "Epoch: 650 \t| Loss: 0.9635905131122696 \t| T_Loss: 1.168873712732024 \t| R_Loss: 0.4146305024623871\n",
            "Epoch: 700 \t| Loss: 0.9292083510990491 \t| T_Loss: 1.1462165369973847 \t| R_Loss: 0.37233081459999084\n",
            "Epoch: 750 \t| Loss: 0.8951880613203397 \t| T_Loss: 1.1379934655676653 \t| R_Loss: 0.3262617886066437\n"
          ]
        }
      ]
    },
    {
      "cell_type": "markdown",
      "source": [
        "✅ Make predictions"
      ],
      "metadata": {
        "id": "IhdRmaiZKa_o"
      }
    },
    {
      "cell_type": "code",
      "source": [
        "y_pred = model_0(X_test).detach().cpu()\n",
        "plot_predictions(X_train,X_test,y_train,y_test,y_pred)\n",
        "\n",
        "model_0.state_dict()"
      ],
      "metadata": {
        "colab": {
          "base_uri": "https://localhost:8080/",
          "height": 368
        },
        "id": "8wunOfzP3uD6",
        "outputId": "f66a70fd-c5ad-46e4-be0a-5af5de8e5e56"
      },
      "execution_count": 45,
      "outputs": [
        {
          "output_type": "display_data",
          "data": {
            "text/plain": [
              "<Figure size 400x300 with 1 Axes>"
            ],
            "image/png": "[encoded data removed]"
          },
          "metadata": {}
        },
        {
          "output_type": "execute_result",
          "data": {
            "text/plain": [
              "OrderedDict([('linear_layer.weight', tensor([[1.1568]], device='cuda:0')),\n",
              "             ('linear_layer.bias', tensor([-1.6838], device='cuda:0'))])"
            ]
          },
          "metadata": {},
          "execution_count": 45
        }
      ]
    },
    {
      "cell_type": "code",
      "source": [
        "loss_curve()"
      ],
      "metadata": {
        "colab": {
          "base_uri": "https://localhost:8080/",
          "height": 333
        },
        "id": "cUt-WEGM4BHC",
        "outputId": "4d0fa5dd-7cd4-4b94-d175-2e15cd29ef0c"
      },
      "execution_count": 46,
      "outputs": [
        {
          "output_type": "display_data",
          "data": {
            "text/plain": [
              "<Figure size 400x300 with 1 Axes>"
            ],
            "image/png": "[encoded data removed]"
          },
          "metadata": {}
        }
      ]
    },
    {
      "cell_type": "markdown",
      "source": [
        "💡 **What these losses represent** <br>\n",
        "* Loss : loss between the predicted result and training data <br>\n",
        "* Test Loss : loss between the predicted result and testing data *(affected by random noise)* <br>\n",
        "* Real Loss : loss between the predicted result and the linear line given by weight*X+bias * (unaffected by random noise)*"
      ],
      "metadata": {
        "id": "lZVrzG9w7inK"
      }
    },
    {
      "cell_type": "code",
      "source": [],
      "metadata": {
        "id": "N8TrVWGXCIVE"
      },
      "execution_count": 46,
      "outputs": []
    }
  ]
}