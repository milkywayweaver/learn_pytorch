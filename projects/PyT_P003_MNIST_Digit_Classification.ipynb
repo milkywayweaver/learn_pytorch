{
  "nbformat": 4,
  "nbformat_minor": 0,
  "metadata": {
    "colab": {
      "provenance": [],
      "gpuType": "T4",
      "authorship_tag": "ABX9TyPxCHwHlUNJvfRHKEodu1+0",
      "include_colab_link": true
    },
    "kernelspec": {
      "name": "python3",
      "display_name": "Python 3"
    },
    "language_info": {
      "name": "python"
    },
    "accelerator": "GPU"
  },
  "cells": [
    {
      "cell_type": "markdown",
      "metadata": {
        "id": "view-in-github",
        "colab_type": "text"
      },
      "source": [
        "<a href=\"https://colab.research.google.com/github/milkywayweaver/learn_pytorch/blob/main/projects/PyT_P003_MNIST_Digit_Classification.ipynb\" target=\"_parent\"><img src=\"https://colab.research.google.com/assets/colab-badge.svg\" alt=\"Open In Colab\"/></a>"
      ]
    },
    {
      "cell_type": "markdown",
      "source": [
        "**MNIST Digit Classification** <br>\n",
        "<br>\n",
        "💡 This project aims to train a model to \"read\" digits from images. This project is done when I have not learned CNNs yet, therefore the model only uses linear and ReLU layers (I will probably update this project sometime later though). <br>\n",
        "<br>\n",
        "📖 Link to the course I follow:\n",
        "\n",
        "* PyTorch for Deep Learning & Machine Learning - freeCodeCamp.org, taught by Daniel Bourke.\n",
        "https://youtu.be/V_xro1bcAuA?si=luBE0ln8qKDfQWyM"
      ],
      "metadata": {
        "id": "crmC5WhG37Ap"
      }
    },
    {
      "cell_type": "code",
      "source": [
        "!pip install idx2numpy > /dev/null"
      ],
      "metadata": {
        "collapsed": true,
        "id": "_D-VcHV9TfEN"
      },
      "execution_count": 14,
      "outputs": []
    },
    {
      "cell_type": "code",
      "execution_count": 15,
      "metadata": {
        "id": "GqL9As5oFqzF"
      },
      "outputs": [],
      "source": [
        "import torch\n",
        "from torch import nn\n",
        "from torchvision.datasets import MNIST\n",
        "\n",
        "import matplotlib.pyplot as plt\n",
        "import numpy as np\n",
        "import pandas as pd"
      ]
    },
    {
      "cell_type": "markdown",
      "source": [
        "✅ Make the code device agnostic"
      ],
      "metadata": {
        "id": "23A2INEM3uyy"
      }
    },
    {
      "cell_type": "code",
      "source": [
        "device = 'cuda' if torch.cuda.is_available() else 'cpu'"
      ],
      "metadata": {
        "id": "v0l9Swi3VpQf"
      },
      "execution_count": 16,
      "outputs": []
    },
    {
      "cell_type": "markdown",
      "source": [
        "✅ Define plot loss curve function"
      ],
      "metadata": {
        "id": "PUIVHDhC3yEq"
      }
    },
    {
      "cell_type": "code",
      "source": [
        "def plot_loss_curve(traintest=0):\n",
        "  if traintest == 0:\n",
        "    loss,acc = losses,accs\n",
        "  else:\n",
        "    loss,acc = test_losses,test_accs\n",
        "  fig,ax = plt.subplots(figsize=(4,4))\n",
        "  ax1 = ax.twinx()\n",
        "  ax.plot(epoch_counts,loss,label='Loss',color='C1')\n",
        "  ax1.plot(epoch_counts,acc,label='Accuracy',color='C2')\n",
        "  ax.set_xlabel('Epochs')\n",
        "  ax1.set_xlabel('Epochs')\n",
        "  ax.set_ylabel('Loss',color='C1')\n",
        "  ax1.set_ylabel('Accuracy',color='C2')\n",
        "  ax.set_ylim(0,1)\n",
        "  ax1.set_ylim(0,100)\n",
        "  plt.title('Loss Curve')\n",
        "  plt.show()"
      ],
      "metadata": {
        "id": "Az7tA_Iqt5rF"
      },
      "execution_count": 17,
      "outputs": []
    },
    {
      "cell_type": "markdown",
      "source": [
        "✅ Read the data"
      ],
      "metadata": {
        "id": "d6HOqqM6U-J6"
      }
    },
    {
      "cell_type": "code",
      "source": [
        "import idx2numpy\n",
        "MNIST(root='./data',download=True)\n",
        "\n",
        "X_train = idx2numpy.convert_from_file('/content/data/MNIST/raw/train-images-idx3-ubyte')\n",
        "y_train = idx2numpy.convert_from_file('/content/data/MNIST/raw/train-labels-idx1-ubyte')\n",
        "X_test = idx2numpy.convert_from_file('/content/data/MNIST/raw/t10k-images-idx3-ubyte')\n",
        "y_test = idx2numpy.convert_from_file('/content/data/MNIST/raw/t10k-labels-idx1-ubyte')\n",
        "\n",
        "X_train = torch.tensor(X_train,device=device,dtype=torch.float32).reshape(60000,28*28)\n",
        "y_train = torch.tensor(y_train,device=device,dtype=torch.float32)\n",
        "X_test = torch.tensor(X_test,device=device,dtype=torch.float32).reshape(10000,28*28)\n",
        "y_test = torch.tensor(y_test,device=device,dtype=torch.float32)\n",
        "\n",
        "# X_train = X_train[:32]\n",
        "# y_train = y_train[:32]\n",
        "# X_test = X_test[:32]\n",
        "# y_test = y_test[:32]\n",
        "\n",
        "print(f'Train data shape: {X_train.shape}')\n",
        "print(f'Train label shape: {y_train.shape}')"
      ],
      "metadata": {
        "colab": {
          "base_uri": "https://localhost:8080/"
        },
        "id": "XQKZNjdyTWFr",
        "outputId": "03a67b25-6cf8-471a-ecee-8d8a902e21e9"
      },
      "execution_count": 18,
      "outputs": [
        {
          "output_type": "stream",
          "name": "stdout",
          "text": [
            "Train data shape: torch.Size([60000, 784])\n",
            "Train label shape: torch.Size([60000])\n"
          ]
        }
      ]
    },
    {
      "cell_type": "markdown",
      "source": [
        "✅ Build the model"
      ],
      "metadata": {
        "id": "yf227h0FVPNu"
      }
    },
    {
      "cell_type": "code",
      "source": [
        "class DigitClassification(nn.Module):\n",
        "  def __init__(self):\n",
        "    super().__init__()\n",
        "    self.stacked_layer = nn.Sequential(\n",
        "        nn.Linear(in_features=28*28,out_features=256,device=device),\n",
        "        nn.ReLU(),\n",
        "        nn.Linear(in_features=256,out_features=128,device=device),\n",
        "        nn.ReLU(),\n",
        "        nn.Linear(in_features=128,out_features=256,device=device),\n",
        "        nn.ReLU(),\n",
        "        nn.Linear(in_features=256,out_features=10,device=device)\n",
        "    )\n",
        "\n",
        "  def forward(self,x):\n",
        "    return self.stacked_layer(x)"
      ],
      "metadata": {
        "id": "bcjEq1S2Tzgj"
      },
      "execution_count": 19,
      "outputs": []
    },
    {
      "cell_type": "markdown",
      "source": [
        "✅ Build the training loop"
      ],
      "metadata": {
        "id": "mIk124tJWYCs"
      }
    },
    {
      "cell_type": "code",
      "source": [
        "def accuracy(y_preds,y_test):\n",
        "  acc = torch.eq(y_preds.argmax(1),y_test).sum().item()\n",
        "  return acc/len(y_preds.argmax(1))*100\n",
        "\n",
        "def train(model,epochs,lr):\n",
        "  # Setup empty arrays\n",
        "  epoch_counts = []\n",
        "  losses = []\n",
        "  test_losses = []\n",
        "  accs = []\n",
        "  test_accs = []\n",
        "\n",
        "  # Setup loss function and optimizer\n",
        "  loss_fn = nn.CrossEntropyLoss()\n",
        "  optimizer = torch.optim.Adam(params=model.parameters(),lr=lr)\n",
        "\n",
        "  for epoch in range(epochs):\n",
        "    # Train\n",
        "    model.train()\n",
        "    y_logits = model(X_train)\n",
        "    y_preds = torch.softmax(y_logits,1)\n",
        "    loss = loss_fn(y_logits,y_train.type(torch.long))\n",
        "    acc = accuracy(y_preds,y_train)\n",
        "    optimizer.zero_grad()\n",
        "    loss.backward()\n",
        "    optimizer.step()\n",
        "\n",
        "    # Evaluate\n",
        "    model.eval()\n",
        "    with torch.inference_mode():\n",
        "      test_logits = model(X_test)\n",
        "      test_preds = torch.softmax(test_logits,1)\n",
        "      test_loss = loss_fn(test_logits,y_test.type(torch.long))\n",
        "      test_acc = accuracy(test_preds,y_test)\n",
        "\n",
        "    if epoch % int(epochs/10) == 0:\n",
        "      print(f'Epoch: {epoch}\\t| Training: {loss:.2f} - {acc:.2f}\\t| Tetsing: {test_loss:.2f} - {test_acc:.2f}')\n",
        "\n",
        "    epoch_counts.append(epoch)\n",
        "    losses.append(loss.cpu().detach().item())\n",
        "    test_losses.append(test_loss.cpu().detach().item())\n",
        "    accs.append(acc)\n",
        "    test_accs.append(test_acc)\n",
        "\n",
        "  return epoch_counts,losses,test_losses,accs,test_accs"
      ],
      "metadata": {
        "id": "WaYQicQQWMJa"
      },
      "execution_count": 20,
      "outputs": []
    },
    {
      "cell_type": "markdown",
      "source": [
        "✅ Train the model"
      ],
      "metadata": {
        "id": "b43KSFs6HTub"
      }
    },
    {
      "cell_type": "code",
      "source": [
        "model = DigitClassification()\n",
        "epoch_counts,losses,test_losses,accs,test_accs = train(model,500,0.0005)"
      ],
      "metadata": {
        "colab": {
          "base_uri": "https://localhost:8080/"
        },
        "id": "UOnrqnDTrhx8",
        "outputId": "e8d652ea-3ea8-43cb-cff1-3919c12040ac"
      },
      "execution_count": 21,
      "outputs": [
        {
          "output_type": "stream",
          "name": "stdout",
          "text": [
            "Epoch: 0\t| Training: 4.54 - 11.15\t| Tetsing: 3.00 - 24.50\n",
            "Epoch: 50\t| Training: 0.15 - 95.48\t| Tetsing: 0.17 - 94.76\n",
            "Epoch: 100\t| Training: 0.07 - 98.11\t| Tetsing: 0.12 - 96.39\n",
            "Epoch: 150\t| Training: 0.03 - 99.24\t| Tetsing: 0.10 - 96.92\n",
            "Epoch: 200\t| Training: 0.01 - 99.77\t| Tetsing: 0.11 - 97.13\n",
            "Epoch: 250\t| Training: 0.01 - 99.95\t| Tetsing: 0.11 - 97.29\n",
            "Epoch: 300\t| Training: 0.00 - 99.98\t| Tetsing: 0.12 - 97.27\n",
            "Epoch: 350\t| Training: 0.00 - 100.00\t| Tetsing: 0.13 - 97.24\n",
            "Epoch: 400\t| Training: 0.00 - 100.00\t| Tetsing: 0.13 - 97.28\n",
            "Epoch: 450\t| Training: 0.00 - 100.00\t| Tetsing: 0.14 - 97.28\n"
          ]
        }
      ]
    },
    {
      "cell_type": "code",
      "source": [
        "plot_loss_curve(1)"
      ],
      "metadata": {
        "colab": {
          "base_uri": "https://localhost:8080/",
          "height": 410
        },
        "id": "c71iRYZUt4gR",
        "outputId": "114fdfc1-018e-488a-ab55-6ea3efaf3470"
      },
      "execution_count": 22,
      "outputs": [
        {
          "output_type": "display_data",
          "data": {
            "text/plain": [
              "<Figure size 400x400 with 2 Axes>"
            ],
            "image/png": "[encoded data removed]"
          },
          "metadata": {}
        }
      ]
    },
    {
      "cell_type": "markdown",
      "source": [
        "✅ Evaluate the model"
      ],
      "metadata": {
        "id": "qfs4DR_pHVs9"
      }
    },
    {
      "cell_type": "code",
      "source": [
        "model.eval()\n",
        "with torch.inference_mode():\n",
        "  y_preds = torch.softmax(model(X_test),1).argmax(1)\n",
        "\n",
        "n = np.random.randint(0,10000,1)\n",
        "plt.imshow(X_test[n].reshape((28,28)).cpu(),cmap='binary')\n",
        "print(f'Test No: {n[0]}')\n",
        "print(f'Result: {y_preds[n].detach().item()}')\n",
        "print(f'Actual Label: {int(y_test[n].detach().item())}')"
      ],
      "metadata": {
        "colab": {
          "base_uri": "https://localhost:8080/",
          "height": 482
        },
        "id": "PUTtCiQThvRx",
        "outputId": "149da45c-8403-4535-8e1b-c5b6c733ba83"
      },
      "execution_count": 23,
      "outputs": [
        {
          "output_type": "stream",
          "name": "stdout",
          "text": [
            "Test No: 7160\n",
            "Result: 5\n",
            "Actual Label: 5\n"
          ]
        },
        {
          "output_type": "display_data",
          "data": {
            "text/plain": [
              "<Figure size 640x480 with 1 Axes>"
            ],
            "image/png": "[encoded data removed]"
          },
          "metadata": {}
        }
      ]
    },
    {
      "cell_type": "code",
      "source": [],
      "metadata": {
        "id": "8MDV7Q2aIA_w"
      },
      "execution_count": 23,
      "outputs": []
    }
  ]
}