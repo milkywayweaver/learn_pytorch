{
  "nbformat": 4,
  "nbformat_minor": 0,
  "metadata": {
    "colab": {
      "provenance": [],
      "gpuType": "T4",
      "authorship_tag": "ABX9TyP58ifZ4t0jyNIhrmrUN3ij",
      "include_colab_link": true
    },
    "kernelspec": {
      "name": "python3",
      "display_name": "Python 3"
    },
    "language_info": {
      "name": "python"
    },
    "accelerator": "GPU"
  },
  "cells": [
    {
      "cell_type": "markdown",
      "metadata": {
        "id": "view-in-github",
        "colab_type": "text"
      },
      "source": [
        "<a href=\"https://colab.research.google.com/github/milkywayweaver/learn_pytorch/blob/main/projects/PyT_P002_Multiclass_Classification.ipynb\" target=\"_parent\"><img src=\"https://colab.research.google.com/assets/colab-badge.svg\" alt=\"Open In Colab\"/></a>"
      ]
    },
    {
      "cell_type": "markdown",
      "source": [
        "**MULTICLASS CLASSIFICATION USING PYTORCH** <br>\n",
        "<br>\n",
        "💡 This project aims to classify colors from its RGB values (converted from hexcodes). The data I use is a color dataset I made myself, consisting of hexcodes and its color labels. <br>\n",
        "💾 Link to the dataset:\n",
        "https://github.com/milkywayweaver/learn_pytorch/blob/main/projects/color_hexcodes_3.csv <br>\n",
        "❗ The dataset only contains brighter colors. Predictions of darker colors may not be very good. <br>\n",
        "❗ Do note that because how the data is made, there maybe some wrong labels for some hexcodes, therefore giving inacurate result in the model.<br>\n",
        "<br>\n",
        "📖 Link to the course I follow: <br>\n",
        "* PyTorch for Deep Learning & Machine Learning - freeCodeCamp.org, taught by Daniel Bourke. <br>\n",
        "https://youtu.be/V_xro1bcAuA?si=luBE0ln8qKDfQWyM"
      ],
      "metadata": {
        "id": "f8ok3V88_pdi"
      }
    },
    {
      "cell_type": "code",
      "execution_count": 19,
      "metadata": {
        "id": "e1g7KpPbcYa1"
      },
      "outputs": [],
      "source": [
        "import torch\n",
        "from torch import nn\n",
        "\n",
        "import numpy as np\n",
        "import pandas as pd\n",
        "import matplotlib.pyplot as plt\n",
        "\n",
        "from sklearn.model_selection import train_test_split"
      ]
    },
    {
      "cell_type": "code",
      "source": [
        "device = 'cuda' if torch.cuda.is_available() else 'cpu'"
      ],
      "metadata": {
        "id": "4UixIpmCiB54"
      },
      "execution_count": 20,
      "outputs": []
    },
    {
      "cell_type": "code",
      "source": [
        "def hex_to_rgb(hexcode):\n",
        "  r,g,b = [int(hexcode[i:i+2],16) for i in [0,2,4]]\n",
        "  return r,g,b\n",
        "\n",
        "def plot_loss_curve():\n",
        "  fig,ax = plt.subplots(figsize=(4,4))\n",
        "  ax1 = ax.twinx()\n",
        "  ax.plot(epoch_counts,test_losses,label='Loss',color='C1')\n",
        "  ax1.plot(epoch_counts,test_accs,label='Accuracy',color='C2')\n",
        "  ax.set_xlabel('Epochs')\n",
        "  ax1.set_xlabel('Epochs')\n",
        "  ax.set_ylabel('Loss',color='C1')\n",
        "  ax1.set_ylabel('Accuracy',color='C2')\n",
        "  plt.title('Loss Curve')\n",
        "  plt.show()"
      ],
      "metadata": {
        "id": "bTjBupm6dTjO"
      },
      "execution_count": 21,
      "outputs": []
    },
    {
      "cell_type": "markdown",
      "source": [
        "✅ Prepare the data"
      ],
      "metadata": {
        "id": "mVE2_1RshmMK"
      }
    },
    {
      "cell_type": "code",
      "source": [
        "hexcodes = pd.read_csv('color_hexcodes_3.csv')\n",
        "hexcodes['Hexcodes'] = hexcodes['Hexcodes'].str.lstrip('#')\n",
        "hexcodes['R'] = hexcodes['Hexcodes'].apply(lambda x:int(x[0:2],16))\n",
        "hexcodes['G'] = hexcodes['Hexcodes'].apply(lambda x:int(x[2:4],16))\n",
        "hexcodes['B'] = hexcodes['Hexcodes'].apply(lambda x:int(x[4:6],16))\n",
        "\n",
        "hexcodes.head(5)"
      ],
      "metadata": {
        "colab": {
          "base_uri": "https://localhost:8080/",
          "height": 206
        },
        "id": "nSSRDv65cmuy",
        "outputId": "78448391-acb4-48ee-b7bd-c9ac0e8479e8"
      },
      "execution_count": 22,
      "outputs": [
        {
          "output_type": "execute_result",
          "data": {
            "text/plain": [
              "  Hexcodes Labels    R   G   B\n",
              "0   fd070b    red  253   7  11\n",
              "1   f9070b    red  249   7  11\n",
              "2   f40408    red  244   4   8\n",
              "3   f6161a    red  246  22  26\n",
              "4   f52226    red  245  34  38"
            ],
            "text/html": [
              "\n",
              "  <div id=\"df-770325b6-31b0-486f-aa07-195469cb8766\" class=\"colab-df-container\">\n",
              "    <div>\n",
              "<style scoped>\n",
              "    .dataframe tbody tr th:only-of-type {\n",
              "        vertical-align: middle;\n",
              "    }\n",
              "\n",
              "    .dataframe tbody tr th {\n",
              "        vertical-align: top;\n",
              "    }\n",
              "\n",
              "    .dataframe thead th {\n",
              "        text-align: right;\n",
              "    }\n",
              "</style>\n",
              "<table border=\"1\" class=\"dataframe\">\n",
              "  <thead>\n",
              "    <tr style=\"text-align: right;\">\n",
              "      <th></th>\n",
              "      <th>Hexcodes</th>\n",
              "      <th>Labels</th>\n",
              "      <th>R</th>\n",
              "      <th>G</th>\n",
              "      <th>B</th>\n",
              "    </tr>\n",
              "  </thead>\n",
              "  <tbody>\n",
              "    <tr>\n",
              "      <th>0</th>\n",
              "      <td>fd070b</td>\n",
              "      <td>red</td>\n",
              "      <td>253</td>\n",
              "      <td>7</td>\n",
              "      <td>11</td>\n",
              "    </tr>\n",
              "    <tr>\n",
              "      <th>1</th>\n",
              "      <td>f9070b</td>\n",
              "      <td>red</td>\n",
              "      <td>249</td>\n",
              "      <td>7</td>\n",
              "      <td>11</td>\n",
              "    </tr>\n",
              "    <tr>\n",
              "      <th>2</th>\n",
              "      <td>f40408</td>\n",
              "      <td>red</td>\n",
              "      <td>244</td>\n",
              "      <td>4</td>\n",
              "      <td>8</td>\n",
              "    </tr>\n",
              "    <tr>\n",
              "      <th>3</th>\n",
              "      <td>f6161a</td>\n",
              "      <td>red</td>\n",
              "      <td>246</td>\n",
              "      <td>22</td>\n",
              "      <td>26</td>\n",
              "    </tr>\n",
              "    <tr>\n",
              "      <th>4</th>\n",
              "      <td>f52226</td>\n",
              "      <td>red</td>\n",
              "      <td>245</td>\n",
              "      <td>34</td>\n",
              "      <td>38</td>\n",
              "    </tr>\n",
              "  </tbody>\n",
              "</table>\n",
              "</div>\n",
              "    <div class=\"colab-df-buttons\">\n",
              "\n",
              "  <div class=\"colab-df-container\">\n",
              "    <button class=\"colab-df-convert\" onclick=\"convertToInteractive('df-770325b6-31b0-486f-aa07-195469cb8766')\"\n",
              "            title=\"Convert this dataframe to an interactive table.\"\n",
              "            style=\"display:none;\">\n",
              "\n",
              "  <svg xmlns=\"http://www.w3.org/2000/svg\" height=\"24px\" viewBox=\"0 -960 960 960\">\n",
              "    <path d=\"M120-120v-720h720v720H120Zm60-500h600v-160H180v160Zm220 220h160v-160H400v160Zm0 220h160v-160H400v160ZM180-400h160v-160H180v160Zm440 0h160v-160H620v160ZM180-180h160v-160H180v160Zm440 0h160v-160H620v160Z\"/>\n",
              "  </svg>\n",
              "    </button>\n",
              "\n",
              "  <style>\n",
              "    .colab-df-container {\n",
              "      display:flex;\n",
              "      gap: 12px;\n",
              "    }\n",
              "\n",
              "    .colab-df-convert {\n",
              "      background-color: #E8F0FE;\n",
              "      border: none;\n",
              "      border-radius: 50%;\n",
              "      cursor: pointer;\n",
              "      display: none;\n",
              "      fill: #1967D2;\n",
              "      height: 32px;\n",
              "      padding: 0 0 0 0;\n",
              "      width: 32px;\n",
              "    }\n",
              "\n",
              "    .colab-df-convert:hover {\n",
              "      background-color: #E2EBFA;\n",
              "      box-shadow: 0px 1px 2px rgba(60, 64, 67, 0.3), 0px 1px 3px 1px rgba(60, 64, 67, 0.15);\n",
              "      fill: #174EA6;\n",
              "    }\n",
              "\n",
              "    .colab-df-buttons div {\n",
              "      margin-bottom: 4px;\n",
              "    }\n",
              "\n",
              "    [theme=dark] .colab-df-convert {\n",
              "      background-color: #3B4455;\n",
              "      fill: #D2E3FC;\n",
              "    }\n",
              "\n",
              "    [theme=dark] .colab-df-convert:hover {\n",
              "      background-color: #434B5C;\n",
              "      box-shadow: 0px 1px 3px 1px rgba(0, 0, 0, 0.15);\n",
              "      filter: drop-shadow(0px 1px 2px rgba(0, 0, 0, 0.3));\n",
              "      fill: #FFFFFF;\n",
              "    }\n",
              "  </style>\n",
              "\n",
              "    <script>\n",
              "      const buttonEl =\n",
              "        document.querySelector('#df-770325b6-31b0-486f-aa07-195469cb8766 button.colab-df-convert');\n",
              "      buttonEl.style.display =\n",
              "        google.colab.kernel.accessAllowed ? 'block' : 'none';\n",
              "\n",
              "      async function convertToInteractive(key) {\n",
              "        const element = document.querySelector('#df-770325b6-31b0-486f-aa07-195469cb8766');\n",
              "        const dataTable =\n",
              "          await google.colab.kernel.invokeFunction('convertToInteractive',\n",
              "                                                    [key], {});\n",
              "        if (!dataTable) return;\n",
              "\n",
              "        const docLinkHtml = 'Like what you see? Visit the ' +\n",
              "          '<a target=\"_blank\" href=https://colab.research.google.com/notebooks/data_table.ipynb>data table notebook</a>'\n",
              "          + ' to learn more about interactive tables.';\n",
              "        element.innerHTML = '';\n",
              "        dataTable['output_type'] = 'display_data';\n",
              "        await google.colab.output.renderOutput(dataTable, element);\n",
              "        const docLink = document.createElement('div');\n",
              "        docLink.innerHTML = docLinkHtml;\n",
              "        element.appendChild(docLink);\n",
              "      }\n",
              "    </script>\n",
              "  </div>\n",
              "\n",
              "\n",
              "    <div id=\"df-e353d282-d799-41d4-8ef3-a28459b56aed\">\n",
              "      <button class=\"colab-df-quickchart\" onclick=\"quickchart('df-e353d282-d799-41d4-8ef3-a28459b56aed')\"\n",
              "                title=\"Suggest charts\"\n",
              "                style=\"display:none;\">\n",
              "\n",
              "<svg xmlns=\"http://www.w3.org/2000/svg\" height=\"24px\"viewBox=\"0 0 24 24\"\n",
              "     width=\"24px\">\n",
              "    <g>\n",
              "        <path d=\"M19 3H5c-1.1 0-2 .9-2 2v14c0 1.1.9 2 2 2h14c1.1 0 2-.9 2-2V5c0-1.1-.9-2-2-2zM9 17H7v-7h2v7zm4 0h-2V7h2v10zm4 0h-2v-4h2v4z\"/>\n",
              "    </g>\n",
              "</svg>\n",
              "      </button>\n",
              "\n",
              "<style>\n",
              "  .colab-df-quickchart {\n",
              "      --bg-color: #E8F0FE;\n",
              "      --fill-color: #1967D2;\n",
              "      --hover-bg-color: #E2EBFA;\n",
              "      --hover-fill-color: #174EA6;\n",
              "      --disabled-fill-color: #AAA;\n",
              "      --disabled-bg-color: #DDD;\n",
              "  }\n",
              "\n",
              "  [theme=dark] .colab-df-quickchart {\n",
              "      --bg-color: #3B4455;\n",
              "      --fill-color: #D2E3FC;\n",
              "      --hover-bg-color: #434B5C;\n",
              "      --hover-fill-color: #FFFFFF;\n",
              "      --disabled-bg-color: #3B4455;\n",
              "      --disabled-fill-color: #666;\n",
              "  }\n",
              "\n",
              "  .colab-df-quickchart {\n",
              "    background-color: var(--bg-color);\n",
              "    border: none;\n",
              "    border-radius: 50%;\n",
              "    cursor: pointer;\n",
              "    display: none;\n",
              "    fill: var(--fill-color);\n",
              "    height: 32px;\n",
              "    padding: 0;\n",
              "    width: 32px;\n",
              "  }\n",
              "\n",
              "  .colab-df-quickchart:hover {\n",
              "    background-color: var(--hover-bg-color);\n",
              "    box-shadow: 0 1px 2px rgba(60, 64, 67, 0.3), 0 1px 3px 1px rgba(60, 64, 67, 0.15);\n",
              "    fill: var(--button-hover-fill-color);\n",
              "  }\n",
              "\n",
              "  .colab-df-quickchart-complete:disabled,\n",
              "  .colab-df-quickchart-complete:disabled:hover {\n",
              "    background-color: var(--disabled-bg-color);\n",
              "    fill: var(--disabled-fill-color);\n",
              "    box-shadow: none;\n",
              "  }\n",
              "\n",
              "  .colab-df-spinner {\n",
              "    border: 2px solid var(--fill-color);\n",
              "    border-color: transparent;\n",
              "    border-bottom-color: var(--fill-color);\n",
              "    animation:\n",
              "      spin 1s steps(1) infinite;\n",
              "  }\n",
              "\n",
              "  @keyframes spin {\n",
              "    0% {\n",
              "      border-color: transparent;\n",
              "      border-bottom-color: var(--fill-color);\n",
              "      border-left-color: var(--fill-color);\n",
              "    }\n",
              "    20% {\n",
              "      border-color: transparent;\n",
              "      border-left-color: var(--fill-color);\n",
              "      border-top-color: var(--fill-color);\n",
              "    }\n",
              "    30% {\n",
              "      border-color: transparent;\n",
              "      border-left-color: var(--fill-color);\n",
              "      border-top-color: var(--fill-color);\n",
              "      border-right-color: var(--fill-color);\n",
              "    }\n",
              "    40% {\n",
              "      border-color: transparent;\n",
              "      border-right-color: var(--fill-color);\n",
              "      border-top-color: var(--fill-color);\n",
              "    }\n",
              "    60% {\n",
              "      border-color: transparent;\n",
              "      border-right-color: var(--fill-color);\n",
              "    }\n",
              "    80% {\n",
              "      border-color: transparent;\n",
              "      border-right-color: var(--fill-color);\n",
              "      border-bottom-color: var(--fill-color);\n",
              "    }\n",
              "    90% {\n",
              "      border-color: transparent;\n",
              "      border-bottom-color: var(--fill-color);\n",
              "    }\n",
              "  }\n",
              "</style>\n",
              "\n",
              "      <script>\n",
              "        async function quickchart(key) {\n",
              "          const quickchartButtonEl =\n",
              "            document.querySelector('#' + key + ' button');\n",
              "          quickchartButtonEl.disabled = true;  // To prevent multiple clicks.\n",
              "          quickchartButtonEl.classList.add('colab-df-spinner');\n",
              "          try {\n",
              "            const charts = await google.colab.kernel.invokeFunction(\n",
              "                'suggestCharts', [key], {});\n",
              "          } catch (error) {\n",
              "            console.error('Error during call to suggestCharts:', error);\n",
              "          }\n",
              "          quickchartButtonEl.classList.remove('colab-df-spinner');\n",
              "          quickchartButtonEl.classList.add('colab-df-quickchart-complete');\n",
              "        }\n",
              "        (() => {\n",
              "          let quickchartButtonEl =\n",
              "            document.querySelector('#df-e353d282-d799-41d4-8ef3-a28459b56aed button');\n",
              "          quickchartButtonEl.style.display =\n",
              "            google.colab.kernel.accessAllowed ? 'block' : 'none';\n",
              "        })();\n",
              "      </script>\n",
              "    </div>\n",
              "\n",
              "    </div>\n",
              "  </div>\n"
            ],
            "application/vnd.google.colaboratory.intrinsic+json": {
              "type": "dataframe",
              "variable_name": "hexcodes",
              "summary": "{\n  \"name\": \"hexcodes\",\n  \"rows\": 6336,\n  \"fields\": [\n    {\n      \"column\": \"Hexcodes\",\n      \"properties\": {\n        \"dtype\": \"string\",\n        \"num_unique_values\": 6312,\n        \"samples\": [\n          \"cb0a5e\",\n          \"1553c8\",\n          \"b70b0b\"\n        ],\n        \"semantic_type\": \"\",\n        \"description\": \"\"\n      }\n    },\n    {\n      \"column\": \"Labels\",\n      \"properties\": {\n        \"dtype\": \"category\",\n        \"num_unique_values\": 11,\n        \"samples\": [\n          \"turqoise\",\n          \"red\",\n          \"magenta\"\n        ],\n        \"semantic_type\": \"\",\n        \"description\": \"\"\n      }\n    },\n    {\n      \"column\": \"R\",\n      \"properties\": {\n        \"dtype\": \"number\",\n        \"std\": 84,\n        \"min\": 0,\n        \"max\": 255,\n        \"num_unique_values\": 256,\n        \"samples\": [\n          44,\n          229,\n          193\n        ],\n        \"semantic_type\": \"\",\n        \"description\": \"\"\n      }\n    },\n    {\n      \"column\": \"G\",\n      \"properties\": {\n        \"dtype\": \"number\",\n        \"std\": 87,\n        \"min\": 0,\n        \"max\": 255,\n        \"num_unique_values\": 256,\n        \"samples\": [\n          229,\n          9,\n          38\n        ],\n        \"semantic_type\": \"\",\n        \"description\": \"\"\n      }\n    },\n    {\n      \"column\": \"B\",\n      \"properties\": {\n        \"dtype\": \"number\",\n        \"std\": 89,\n        \"min\": 0,\n        \"max\": 255,\n        \"num_unique_values\": 256,\n        \"samples\": [\n          164,\n          12,\n          83\n        ],\n        \"semantic_type\": \"\",\n        \"description\": \"\"\n      }\n    }\n  ]\n}"
            }
          },
          "metadata": {},
          "execution_count": 22
        }
      ]
    },
    {
      "cell_type": "code",
      "source": [
        "fig, ax = plt.subplots(1,3,figsize=(12,3))\n",
        "ax[0].hist(hexcodes['R'],color='firebrick')\n",
        "ax[0].set_title('Red')\n",
        "ax[0].set_ylim(0,5000)\n",
        "ax[1].hist(hexcodes['G'],color='C2')\n",
        "ax[1].set_title('Green')\n",
        "ax[1].set_ylim(0,5000)\n",
        "ax[2].hist(hexcodes['B'],color='C0')\n",
        "ax[2].set_title('Blue')\n",
        "ax[2].set_ylim(0,5000)\n",
        "plt.show()"
      ],
      "metadata": {
        "colab": {
          "base_uri": "https://localhost:8080/",
          "height": 314
        },
        "id": "enlCHWFMfnqa",
        "outputId": "aec00609-cbc2-44c0-c3b1-365c6e922ccd"
      },
      "execution_count": 23,
      "outputs": [
        {
          "output_type": "display_data",
          "data": {
            "text/plain": [
              "<Figure size 1200x300 with 3 Axes>"
            ],
            "image/png": "[encoded data removed]"
          },
          "metadata": {}
        }
      ]
    },
    {
      "cell_type": "code",
      "source": [
        "# Normalize data and set one hot encoding\n",
        "X_pd = hexcodes[['R','G','B']]\n",
        "y_pd = hexcodes[['Labels']]\n",
        "\n",
        "from sklearn.compose import make_column_transformer\n",
        "from sklearn.preprocessing import MinMaxScaler,OneHotEncoder\n",
        "\n",
        "ct = make_column_transformer((MinMaxScaler(),['R','G','B']))\n",
        "ct.fit(X_pd)\n",
        "X_np = ct.transform(X_pd)\n",
        "\n",
        "ct = make_column_transformer((OneHotEncoder(handle_unknown='ignore'),['Labels']))\n",
        "ct.fit(y_pd)\n",
        "y_np = ct.transform(y_pd).toarray()\n",
        "\n",
        "color_list = ct.transformers_[0][1].categories_[0]"
      ],
      "metadata": {
        "id": "_3Nj5W-Njv0B"
      },
      "execution_count": 24,
      "outputs": []
    },
    {
      "cell_type": "markdown",
      "source": [
        "✅ Load the data into tensors"
      ],
      "metadata": {
        "id": "udRu7uS_hq8W"
      }
    },
    {
      "cell_type": "code",
      "source": [
        "# Load data into tensors\n",
        "X = torch.tensor(X_np,device=device,dtype=torch.float32)\n",
        "y = torch.tensor(y_np,device=device,dtype=torch.float32)\n",
        "\n",
        "# Split the data into training and testing set\n",
        "X_train,X_test,y_train,y_test = train_test_split(X,y,test_size=0.2)"
      ],
      "metadata": {
        "id": "YI00dxN3gtN8"
      },
      "execution_count": 25,
      "outputs": []
    },
    {
      "cell_type": "code",
      "source": [
        "X_train.shape,y_train.shape"
      ],
      "metadata": {
        "colab": {
          "base_uri": "https://localhost:8080/"
        },
        "id": "gxJIacmiaC85",
        "outputId": "fbcbd48c-4e14-43ca-82b1-0ade6cc56d03"
      },
      "execution_count": 26,
      "outputs": [
        {
          "output_type": "execute_result",
          "data": {
            "text/plain": [
              "(torch.Size([5068, 3]), torch.Size([5068, 11]))"
            ]
          },
          "metadata": {},
          "execution_count": 26
        }
      ]
    },
    {
      "cell_type": "code",
      "source": [
        "y_train.argmax(1)"
      ],
      "metadata": {
        "colab": {
          "base_uri": "https://localhost:8080/"
        },
        "id": "4dp1vGnx3q5f",
        "outputId": "a66e4915-a45d-4727-9b3d-0f3bb8538281"
      },
      "execution_count": 27,
      "outputs": [
        {
          "output_type": "execute_result",
          "data": {
            "text/plain": [
              "tensor([5, 7, 8,  ..., 7, 4, 0])"
            ]
          },
          "metadata": {},
          "execution_count": 27
        }
      ]
    },
    {
      "cell_type": "markdown",
      "source": [
        "✅ Build the model"
      ],
      "metadata": {
        "id": "J5GejN_7lNvz"
      }
    },
    {
      "cell_type": "code",
      "source": [
        "class MultiClassification(nn.Module):\n",
        "  def __init__(self):\n",
        "    super().__init__()\n",
        "    self.input_layer = nn.Linear(in_features=3,out_features=512,device=device)\n",
        "    self.layer_1 = nn.Linear(in_features=512,out_features=512,device=device)\n",
        "    self.output_layer = nn.Linear(in_features=512,out_features=len(color_list),device=device)\n",
        "    self.relu = nn.ReLU()\n",
        "\n",
        "  def forward(self,x: torch.Tensor):\n",
        "    return self.output_layer(self.relu(self.layer_1(self.relu(self.input_layer(x)))))"
      ],
      "metadata": {
        "id": "B1M1-h8ehycE"
      },
      "execution_count": 28,
      "outputs": []
    },
    {
      "cell_type": "markdown",
      "source": [
        "✅ Build the training loop"
      ],
      "metadata": {
        "id": "0uBm1R28rThS"
      }
    },
    {
      "cell_type": "code",
      "source": [
        "def accuracy(y_preds,y_test):\n",
        "  # Shape of y_preds is nx1, y_test is nxlabel\n",
        "  acc = torch.eq(y_preds,y_test.argmax(1)).sum().item()\n",
        "  return acc/len(y_preds)*100\n",
        "\n",
        "def train(model,epochs,lr):\n",
        "  epoch_counts = []\n",
        "  test_losses = []\n",
        "  test_accs = []\n",
        "\n",
        "  # Setup loss function and optimizer\n",
        "  loss_fn = nn.CrossEntropyLoss()\n",
        "  optimizer = torch.optim.Adam(params=model.parameters(),lr=lr)\n",
        "\n",
        "  # Initiate training loop\n",
        "  for epoch in range(epochs):\n",
        "    # Train\n",
        "    model.train()\n",
        "    y_logits = model(X_train.type(torch.float32))\n",
        "    y_preds = torch.softmax(y_logits,1).argmax(1)\n",
        "    loss = loss_fn(y_logits,y_train.argmax(1))\n",
        "    acc = accuracy(y_preds,y_train)\n",
        "    optimizer.zero_grad()\n",
        "    loss.backward()\n",
        "    optimizer.step()\n",
        "\n",
        "    # Evaluate\n",
        "    model.eval()\n",
        "    with torch.inference_mode():\n",
        "      test_logits = model(X_test.type(torch.float32))\n",
        "      test_preds = torch.softmax(test_logits,1).argmax(1)\n",
        "      test_loss = loss_fn(test_logits,y_test.argmax(1))\n",
        "      test_acc = accuracy(test_preds,y_test)\n",
        "\n",
        "    if epoch % int(epochs/20) == 0:\n",
        "      print(f'Epoch: {epoch}\\t| Accuracy: {acc:.2f}\\t|  Test Accuracy: {test_acc:.2f}')\n",
        "\n",
        "    epoch_counts.append(epoch)\n",
        "    test_losses.append(test_loss.detach().item())\n",
        "    test_accs.append(test_acc)\n",
        "\n",
        "  return epoch_counts,test_losses,test_accs"
      ],
      "metadata": {
        "id": "M5je_8EhrViz"
      },
      "execution_count": 29,
      "outputs": []
    },
    {
      "cell_type": "code",
      "source": [
        "model_0 = MultiClassification()\n",
        "epoch_counts,test_losses,test_accs = train(model_0,100,0.01)"
      ],
      "metadata": {
        "colab": {
          "base_uri": "https://localhost:8080/"
        },
        "id": "NUpcZH4Qh5hb",
        "outputId": "122d1077-c779-40f5-eb81-ca208fec25a0"
      },
      "execution_count": 30,
      "outputs": [
        {
          "output_type": "stream",
          "name": "stdout",
          "text": [
            "Epoch: 0\t| Accuracy: 0.04\t|  Test Accuracy: 43.38\n",
            "Epoch: 5\t| Accuracy: 68.86\t|  Test Accuracy: 72.08\n",
            "Epoch: 10\t| Accuracy: 90.37\t|  Test Accuracy: 92.59\n",
            "Epoch: 15\t| Accuracy: 96.21\t|  Test Accuracy: 96.29\n",
            "Epoch: 20\t| Accuracy: 96.90\t|  Test Accuracy: 97.32\n",
            "Epoch: 25\t| Accuracy: 97.40\t|  Test Accuracy: 98.19\n",
            "Epoch: 30\t| Accuracy: 97.85\t|  Test Accuracy: 98.03\n",
            "Epoch: 35\t| Accuracy: 97.81\t|  Test Accuracy: 98.26\n",
            "Epoch: 40\t| Accuracy: 97.59\t|  Test Accuracy: 98.19\n",
            "Epoch: 45\t| Accuracy: 97.69\t|  Test Accuracy: 98.03\n",
            "Epoch: 50\t| Accuracy: 97.63\t|  Test Accuracy: 98.11\n",
            "Epoch: 55\t| Accuracy: 97.49\t|  Test Accuracy: 98.19\n",
            "Epoch: 60\t| Accuracy: 97.61\t|  Test Accuracy: 98.19\n",
            "Epoch: 65\t| Accuracy: 97.81\t|  Test Accuracy: 98.03\n",
            "Epoch: 70\t| Accuracy: 97.42\t|  Test Accuracy: 98.11\n",
            "Epoch: 75\t| Accuracy: 97.67\t|  Test Accuracy: 98.03\n",
            "Epoch: 80\t| Accuracy: 97.75\t|  Test Accuracy: 98.19\n",
            "Epoch: 85\t| Accuracy: 97.79\t|  Test Accuracy: 98.19\n",
            "Epoch: 90\t| Accuracy: 97.73\t|  Test Accuracy: 98.03\n",
            "Epoch: 95\t| Accuracy: 97.67\t|  Test Accuracy: 98.11\n"
          ]
        }
      ]
    },
    {
      "cell_type": "code",
      "source": [
        "model_0.eval()\n",
        "with torch.inference_mode():\n",
        "  y_logits = model_0(X_test)\n",
        "  y_preds = torch.softmax(y_logits,1)\n",
        "plot_loss_curve()\n",
        "\n",
        "\n",
        "print(f'Test accuracy: {np.round(accuracy(y_preds.argmax(1),y_test),2)}%')"
      ],
      "metadata": {
        "id": "ZqDST2XJmR_e",
        "colab": {
          "base_uri": "https://localhost:8080/",
          "height": 427
        },
        "outputId": "bc394661-d566-4ecc-f4d4-ef6b5e29110b"
      },
      "execution_count": 31,
      "outputs": [
        {
          "output_type": "display_data",
          "data": {
            "text/plain": [
              "<Figure size 400x400 with 2 Axes>"
            ],
            "image/png": "[encoded data removed]"
          },
          "metadata": {}
        },
        {
          "output_type": "stream",
          "name": "stdout",
          "text": [
            "Test accuracy: 97.95%\n"
          ]
        }
      ]
    },
    {
      "cell_type": "markdown",
      "source": [
        "✅ Evaluate the model on a new random hexcode"
      ],
      "metadata": {
        "id": "XQ4AA9apsTAF"
      }
    },
    {
      "cell_type": "code",
      "source": [
        "random_hex = [[np.random.randint(0,255) for i in range(3)]]\n",
        "random_hex = ['{:02x}{:02x}{:02x}'.format(*rgb) for rgb in random_hex][0]\n",
        "rgb = torch.tensor([int(random_hex[i:i+2],16) for i in [0,2,4]],device=device,dtype=torch.float32).unsqueeze(0)\n",
        "\n",
        "model_0.eval()\n",
        "with torch.inference_mode():\n",
        "  y_pred = model_0(rgb).argmax(1)\n",
        "\n",
        "color_index = y_pred\n",
        "print(color_list[color_index])\n",
        "print(rgb.numpy().ravel())\n",
        "plt.figure(figsize=(0.5,0.5))\n",
        "plt.axis('off')\n",
        "plt.imshow([rgb.type(torch.int32)])\n",
        "plt.show()"
      ],
      "metadata": {
        "id": "0q_tgPtlE5pr",
        "colab": {
          "base_uri": "https://localhost:8080/",
          "height": 110
        },
        "outputId": "c031896e-7505-47df-d32b-e623c0a59447"
      },
      "execution_count": 32,
      "outputs": [
        {
          "output_type": "stream",
          "name": "stdout",
          "text": [
            "blue\n",
            "[ 67.  84. 209.]\n"
          ]
        },
        {
          "output_type": "display_data",
          "data": {
            "text/plain": [
              "<Figure size 50x50 with 1 Axes>"
            ],
            "image/png": "[encoded data removed]"
          },
          "metadata": {}
        }
      ]
    },
    {
      "cell_type": "code",
      "source": [],
      "metadata": {
        "id": "BkMGY2_et_sS"
      },
      "execution_count": 32,
      "outputs": []
    }
  ]
}